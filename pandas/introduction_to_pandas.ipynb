{
 "metadata": {
  "name": ""
 },
 "nbformat": 3,
 "nbformat_minor": 0,
 "worksheets": [
  {
   "cells": [
    {
     "cell_type": "code",
     "collapsed": false,
     "input": [
      "%pylab inline"
     ],
     "language": "python",
     "metadata": {},
     "outputs": [
      {
       "output_type": "stream",
       "stream": "stdout",
       "text": [
        "Populating the interactive namespace from numpy and matplotlib\n"
       ]
      }
     ],
     "prompt_number": 1
    },
    {
     "cell_type": "markdown",
     "metadata": {},
     "source": [
      "Let's say hello to Pandas. The convention is use pd in the import. "
     ]
    },
    {
     "cell_type": "code",
     "collapsed": false,
     "input": [
      "import pandas as pd"
     ],
     "language": "python",
     "metadata": {
      "slideshow": {
       "slide_type": "slide"
      }
     },
     "outputs": [],
     "prompt_number": 2
    },
    {
     "cell_type": "markdown",
     "metadata": {
      "slideshow": {
       "slide_type": "slide"
      }
     },
     "source": [
      "#Pandas Series Object"
     ]
    },
    {
     "cell_type": "markdown",
     "metadata": {
      "slideshow": {
       "slide_type": "subslide"
      }
     },
     "source": [
      "Array/list, one dimensional object. The easiest way is to initialize it with a list."
     ]
    },
    {
     "cell_type": "code",
     "collapsed": false,
     "input": [
      "cities = ['London', 'New York', 'Berlin', 'Toronto']"
     ],
     "language": "python",
     "metadata": {},
     "outputs": [],
     "prompt_number": 3
    },
    {
     "cell_type": "code",
     "collapsed": false,
     "input": [
      "s =pd.Series(cities)\n",
      "s"
     ],
     "language": "python",
     "metadata": {},
     "outputs": [
      {
       "metadata": {},
       "output_type": "pyout",
       "prompt_number": 4,
       "text": [
        "0      London\n",
        "1    New York\n",
        "2      Berlin\n",
        "3     Toronto\n",
        "dtype: object"
       ]
      }
     ],
     "prompt_number": 4
    },
    {
     "cell_type": "markdown",
     "metadata": {},
     "source": [
      "We see that we have the values in the list, but also and index, in this case going from 0 to 3. That is the default index."
     ]
    },
    {
     "cell_type": "code",
     "collapsed": false,
     "input": [
      "s.index"
     ],
     "language": "python",
     "metadata": {},
     "outputs": [
      {
       "metadata": {},
       "output_type": "pyout",
       "prompt_number": 5,
       "text": [
        "Int64Index([0, 1, 2, 3], dtype=int64)"
       ]
      }
     ],
     "prompt_number": 5
    },
    {
     "cell_type": "code",
     "collapsed": false,
     "input": [
      "s.values"
     ],
     "language": "python",
     "metadata": {},
     "outputs": [
      {
       "metadata": {},
       "output_type": "pyout",
       "prompt_number": 6,
       "text": [
        "array(['London', 'New York', 'Berlin', 'Toronto'], dtype=object)"
       ]
      }
     ],
     "prompt_number": 6
    },
    {
     "cell_type": "markdown",
     "metadata": {},
     "source": [
      "We can reference the values by using the appropiate index. In this case there is not much difference with a numpy array."
     ]
    },
    {
     "cell_type": "code",
     "collapsed": false,
     "input": [
      "s[1]"
     ],
     "language": "python",
     "metadata": {},
     "outputs": [
      {
       "metadata": {},
       "output_type": "pyout",
       "prompt_number": 7,
       "text": [
        "'New York'"
       ]
      }
     ],
     "prompt_number": 7
    },
    {
     "cell_type": "markdown",
     "metadata": {},
     "source": [
      "You can assign you **own** index. Which brings the power to the structure. Later it will be clear why."
     ]
    },
    {
     "cell_type": "code",
     "collapsed": false,
     "input": [
      "s = pd.Series(cities, index = ['A', 'B', 'C', 'D'])\n",
      "s"
     ],
     "language": "python",
     "metadata": {},
     "outputs": [
      {
       "metadata": {},
       "output_type": "pyout",
       "prompt_number": 8,
       "text": [
        "A      London\n",
        "B    New York\n",
        "C      Berlin\n",
        "D     Toronto\n",
        "dtype: object"
       ]
      }
     ],
     "prompt_number": 8
    },
    {
     "cell_type": "markdown",
     "metadata": {},
     "source": [
      "In this case we have used labels A to D. And we can now reference the data in the Series by using the label."
     ]
    },
    {
     "cell_type": "code",
     "collapsed": false,
     "input": [
      "s['D']"
     ],
     "language": "python",
     "metadata": {},
     "outputs": [
      {
       "metadata": {},
       "output_type": "pyout",
       "prompt_number": 9,
       "text": [
        "'Toronto'"
       ]
      }
     ],
     "prompt_number": 9
    },
    {
     "cell_type": "markdown",
     "metadata": {},
     "source": [
      "###Bogot\u00e1###\n",
      "<center>\n",
      "<img src=\"files/bogota.jpg\" width=\"400\">\n",
      "</center>\n",
      "[Bogot\u00e1 Image by Jorge D\u00edaz](http://en.wikipedia.org/wiki/File:Bogot%C3%A1_de_noche.jpg)\n"
     ]
    },
    {
     "cell_type": "markdown",
     "metadata": {},
     "source": [
      "Let us try to look at a more meaningful series. The population of Bogot\u00e1 (the capital of Colombia) as evolving in time. Data taken from wikipedia. In this case it makes sense that the label is the year, and the value is the corresponding population. Then we can easily retrieve by year. Previously we used a list, but we can also use a dictionary to initialize a Series Object. In this case the keys will be the index, and the value will be the population in that year:"
     ]
    },
    {
     "cell_type": "code",
     "collapsed": false,
     "input": [
      "population_bogota = {1800:21964, \n",
      "                     1912:121257, \n",
      "                     1951:715250, \n",
      "                     1964:1697311, \n",
      "                     1973:2855065, \n",
      "                     1985:4236490, \n",
      "                     1999:6276428, \n",
      "                     2012:7571345}"
     ],
     "language": "python",
     "metadata": {},
     "outputs": [],
     "prompt_number": 41
    },
    {
     "cell_type": "code",
     "collapsed": false,
     "input": [
      "series_bogota = pd.Series(population_bogota)\n",
      "series_bogota"
     ],
     "language": "python",
     "metadata": {},
     "outputs": [
      {
       "metadata": {},
       "output_type": "pyout",
       "prompt_number": 42,
       "text": [
        "1800      21964\n",
        "1912     121257\n",
        "1951     715250\n",
        "1964    1697311\n",
        "1973    2855065\n",
        "1985    4236490\n",
        "1999    6276428\n",
        "2012    7571345\n",
        "dtype: int64"
       ]
      }
     ],
     "prompt_number": 42
    },
    {
     "cell_type": "markdown",
     "metadata": {},
     "source": [
      "When you are working with different series it may be useful to include some meta-data on the series. Like the name of the series itself, and of the index."
     ]
    },
    {
     "cell_type": "code",
     "collapsed": false,
     "input": [
      "series_bogota.name = 'Bogota population'\n",
      "series_bogota.index.name = 'year'"
     ],
     "language": "python",
     "metadata": {},
     "outputs": [],
     "prompt_number": 43
    },
    {
     "cell_type": "code",
     "collapsed": false,
     "input": [
      "series_bogota"
     ],
     "language": "python",
     "metadata": {},
     "outputs": [
      {
       "metadata": {},
       "output_type": "pyout",
       "prompt_number": 44,
       "text": [
        "year\n",
        "1800      21964\n",
        "1912     121257\n",
        "1951     715250\n",
        "1964    1697311\n",
        "1973    2855065\n",
        "1985    4236490\n",
        "1999    6276428\n",
        "2012    7571345\n",
        "Name: Bogota population, dtype: int64"
       ]
      }
     ],
     "prompt_number": 44
    },
    {
     "cell_type": "code",
     "collapsed": false,
     "input": [
      "series_bogota.index"
     ],
     "language": "python",
     "metadata": {},
     "outputs": [
      {
       "metadata": {},
       "output_type": "pyout",
       "prompt_number": 45,
       "text": [
        "Int64Index([1800, 1912, 1951, 1964, 1973, 1985, 1999, 2012], dtype=int64)"
       ]
      }
     ],
     "prompt_number": 45
    },
    {
     "cell_type": "code",
     "collapsed": false,
     "input": [
      "series_bogota.values"
     ],
     "language": "python",
     "metadata": {},
     "outputs": [
      {
       "metadata": {},
       "output_type": "pyout",
       "prompt_number": 46,
       "text": [
        "array([  21964,  121257,  715250, 1697311, 2855065, 4236490, 6276428,\n",
        "       7571345])"
       ]
      }
     ],
     "prompt_number": 46
    },
    {
     "cell_type": "markdown",
     "metadata": {},
     "source": [
      "We can obviously reference specific values by using the index"
     ]
    },
    {
     "cell_type": "code",
     "collapsed": false,
     "input": [
      "series_bogota[1800]"
     ],
     "language": "python",
     "metadata": {},
     "outputs": [
      {
       "metadata": {},
       "output_type": "pyout",
       "prompt_number": 47,
       "text": [
        "21964"
       ]
      }
     ],
     "prompt_number": 47
    },
    {
     "cell_type": "markdown",
     "metadata": {},
     "source": [
      "Note that the values in the series are numpy arrays. This is part of what makes pandas fast and can be very useful when working with other libraries."
     ]
    },
    {
     "cell_type": "code",
     "collapsed": false,
     "input": [
      "type(series_bogota.values)"
     ],
     "language": "python",
     "metadata": {},
     "outputs": [
      {
       "metadata": {},
       "output_type": "pyout",
       "prompt_number": 48,
       "text": [
        "numpy.ndarray"
       ]
      }
     ],
     "prompt_number": 48
    },
    {
     "cell_type": "markdown",
     "metadata": {},
     "source": [
      "The index, on the other hand is a pandas Object. There is a hierarchy of Index objects that includes specific types for time indexes, hierichical index and other types of indexes."
     ]
    },
    {
     "cell_type": "code",
     "collapsed": false,
     "input": [
      "type(series_bogota.index)"
     ],
     "language": "python",
     "metadata": {},
     "outputs": [
      {
       "metadata": {},
       "output_type": "pyout",
       "prompt_number": 49,
       "text": [
        "pandas.core.index.Int64Index"
       ]
      }
     ],
     "prompt_number": 49
    },
    {
     "cell_type": "markdown",
     "metadata": {},
     "source": [
      "We can query som information based on values. When did the population of bogota went above 1.000.000"
     ]
    },
    {
     "cell_type": "code",
     "collapsed": false,
     "input": [
      "series_bogota[series_bogota > 1000000]"
     ],
     "language": "python",
     "metadata": {},
     "outputs": [
      {
       "metadata": {},
       "output_type": "pyout",
       "prompt_number": 50,
       "text": [
        "year\n",
        "1964    1697311\n",
        "1973    2855065\n",
        "1985    4236490\n",
        "1999    6276428\n",
        "2012    7571345\n",
        "Name: Bogota population, dtype: int64"
       ]
      }
     ],
     "prompt_number": 50
    },
    {
     "cell_type": "markdown",
     "metadata": {},
     "source": [
      "I need the population from the 60's on"
     ]
    },
    {
     "cell_type": "code",
     "collapsed": false,
     "input": [
      "series_bogota[series_bogota.index > 1960]"
     ],
     "language": "python",
     "metadata": {},
     "outputs": [
      {
       "metadata": {},
       "output_type": "pyout",
       "prompt_number": 51,
       "text": [
        "year\n",
        "1964    1697311\n",
        "1973    2855065\n",
        "1985    4236490\n",
        "1999    6276428\n",
        "2012    7571345\n",
        "Name: Bogota population, dtype: int64"
       ]
      }
     ],
     "prompt_number": 51
    },
    {
     "cell_type": "markdown",
     "metadata": {},
     "source": [
      "What is actually going on with this way of querying information? Let us see what the bit inside the brackets yields."
     ]
    },
    {
     "cell_type": "code",
     "collapsed": false,
     "input": [
      "series_bogota.index > 1965"
     ],
     "language": "python",
     "metadata": {},
     "outputs": [
      {
       "metadata": {},
       "output_type": "pyout",
       "prompt_number": 52,
       "text": [
        "array([False, False, False, False,  True,  True,  True,  True], dtype=bool)"
       ]
      }
     ],
     "prompt_number": 52
    },
    {
     "cell_type": "markdown",
     "metadata": {},
     "source": [
      "This means that we can also query using an array of booleans, perhaps handy if we have complex programatic conditions."
     ]
    },
    {
     "cell_type": "code",
     "collapsed": false,
     "input": [
      "series_bogota[[True, False, True]]"
     ],
     "language": "python",
     "metadata": {},
     "outputs": [
      {
       "metadata": {},
       "output_type": "pyout",
       "prompt_number": 53,
       "text": [
        "year\n",
        "1800     21964\n",
        "1951    715250\n",
        "Name: Bogota population, dtype: int64"
       ]
      }
     ],
     "prompt_number": 53
    },
    {
     "cell_type": "markdown",
     "metadata": {},
     "source": [
      "You can also query based on the index value itself."
     ]
    },
    {
     "cell_type": "code",
     "collapsed": false,
     "input": [
      "series_bogota[[1973, 2012, 2011]]"
     ],
     "language": "python",
     "metadata": {},
     "outputs": [
      {
       "metadata": {},
       "output_type": "pyout",
       "prompt_number": 54,
       "text": [
        "1973    2855065\n",
        "2012    7571345\n",
        "2011        NaN\n",
        "Name: Bogota population, dtype: float64"
       ]
      }
     ],
     "prompt_number": 54
    },
    {
     "cell_type": "markdown",
     "metadata": {},
     "source": [
      "Note that we get NaN, for 2011, because this label is not in the original index. This is part of the automatic handling of missing values, and will turn out to be extremely valuable when working with real data."
     ]
    },
    {
     "cell_type": "markdown",
     "metadata": {},
     "source": [
      "Lets add a ficticious value for 2011."
     ]
    },
    {
     "cell_type": "code",
     "collapsed": false,
     "input": [
      "series_bogota = series_bogota.set_value(2011, 6500000)\n",
      "series_bogota"
     ],
     "language": "python",
     "metadata": {},
     "outputs": [
      {
       "metadata": {},
       "output_type": "pyout",
       "prompt_number": 55,
       "text": [
        "year\n",
        "1800      21964\n",
        "1912     121257\n",
        "1951     715250\n",
        "1964    1697311\n",
        "1973    2855065\n",
        "1985    4236490\n",
        "1999    6276428\n",
        "2012    7571345\n",
        "2011    6500000\n",
        "Name: Bogota population, dtype: int64"
       ]
      }
     ],
     "prompt_number": 55
    },
    {
     "cell_type": "markdown",
     "metadata": {},
     "source": [
      "You can apply functions to each element of the series. Remember, this is close to numpy."
     ]
    },
    {
     "cell_type": "code",
     "collapsed": false,
     "input": [
      "millions = lambda x: x/1000000.0\n",
      "series_bogota.apply(millions)"
     ],
     "language": "python",
     "metadata": {},
     "outputs": [
      {
       "metadata": {},
       "output_type": "pyout",
       "prompt_number": 56,
       "text": [
        "year\n",
        "1800    0.021964\n",
        "1912    0.121257\n",
        "1951    0.715250\n",
        "1964    1.697311\n",
        "1973    2.855065\n",
        "1985    4.236490\n",
        "1999    6.276428\n",
        "2012    7.571345\n",
        "2011    6.500000\n",
        "Name: Bogota population, dtype: float64"
       ]
      }
     ],
     "prompt_number": 56
    },
    {
     "cell_type": "markdown",
     "metadata": {},
     "source": [
      "Finally, sometimes we need to have a quick idea of what the data looks like. For this we can use the function describe."
     ]
    },
    {
     "cell_type": "code",
     "collapsed": false,
     "input": [
      "series_bogota.describe()"
     ],
     "language": "python",
     "metadata": {},
     "outputs": [
      {
       "metadata": {},
       "output_type": "pyout",
       "prompt_number": 57,
       "text": [
        "count          9.000000\n",
        "mean     3332790.000000\n",
        "std      2926351.983191\n",
        "min        21964.000000\n",
        "25%       715250.000000\n",
        "50%      2855065.000000\n",
        "75%      6276428.000000\n",
        "max      7571345.000000\n",
        "dtype: float64"
       ]
      }
     ],
     "prompt_number": 57
    },
    {
     "cell_type": "markdown",
     "metadata": {},
     "source": [
      "Or even cooler, plots"
     ]
    },
    {
     "cell_type": "code",
     "collapsed": false,
     "input": [
      "pd.Series.plot(series_bogota, kind='bar')"
     ],
     "language": "python",
     "metadata": {},
     "outputs": [
      {
       "metadata": {},
       "output_type": "pyout",
       "prompt_number": 58,
       "text": [
        "<matplotlib.axes.AxesSubplot at 0x10993e150>"
       ]
      },
      {
       "metadata": {},
       "output_type": "display_data",
       "png": "[encoded data removed]",
       "text": [
        "<matplotlib.figure.Figure at 0x1091a8dd0>"
       ]
      }
     ],
     "prompt_number": 58
    },
    {
     "cell_type": "code",
     "collapsed": false,
     "input": [
      "series_bogota.sort()\n",
      "pd.Series.plot(series_bogota/1000000.0, kind='bar')"
     ],
     "language": "python",
     "metadata": {},
     "outputs": [
      {
       "metadata": {},
       "output_type": "pyout",
       "prompt_number": 59,
       "text": [
        "<matplotlib.axes.AxesSubplot at 0x109a4b350>"
       ]
      },
      {
       "metadata": {},
       "output_type": "display_data",
       "png": "[encoded data removed]",
       "text": [
        "<matplotlib.figure.Figure at 0x10992ed90>"
       ]
      }
     ],
     "prompt_number": 59
    },
    {
     "cell_type": "markdown",
     "metadata": {},
     "source": [
      "What about population change?"
     ]
    },
    {
     "cell_type": "code",
     "collapsed": false,
     "input": [
      "series_bogota.pct_change()"
     ],
     "language": "python",
     "metadata": {},
     "outputs": [
      {
       "metadata": {},
       "output_type": "pyout",
       "prompt_number": 60,
       "text": [
        "year\n",
        "1800         NaN\n",
        "1912    4.520716\n",
        "1951    4.898629\n",
        "1964    1.373032\n",
        "1973    0.682111\n",
        "1985    0.483851\n",
        "1999    0.481516\n",
        "2011    0.035621\n",
        "2012    0.164822\n",
        "Name: Bogota population, dtype: float64"
       ]
      }
     ],
     "prompt_number": 60
    },
    {
     "cell_type": "code",
     "collapsed": false,
     "input": [
      "series_bogota.pct_change().plot(kind='bar')\n",
      "plt.ylabel('percentage change')"
     ],
     "language": "python",
     "metadata": {},
     "outputs": [
      {
       "metadata": {},
       "output_type": "pyout",
       "prompt_number": 61,
       "text": [
        "<matplotlib.text.Text at 0x109d0ccd0>"
       ]
      },
      {
       "metadata": {},
       "output_type": "display_data",
       "png": "[encoded data removed]",
       "text": [
        "<matplotlib.figure.Figure at 0x1099d56d0>"
       ]
      }
     ],
     "prompt_number": 61
    },
    {
     "cell_type": "markdown",
     "metadata": {},
     "source": [
      "Note that there is a lot of missing data. Is there a way to solve this quickly?"
     ]
    },
    {
     "cell_type": "markdown",
     "metadata": {},
     "source": [
      "Reindex + Interpolation"
     ]
    },
    {
     "cell_type": "code",
     "collapsed": false,
     "input": [
      "series_bogota = series_bogota.reindex(range(1800, 2014))"
     ],
     "language": "python",
     "metadata": {},
     "outputs": [],
     "prompt_number": 62
    },
    {
     "cell_type": "code",
     "collapsed": false,
     "input": [
      "series_bogota"
     ],
     "language": "python",
     "metadata": {},
     "outputs": [
      {
       "metadata": {},
       "output_type": "pyout",
       "prompt_number": 63,
       "text": [
        "1800    21964\n",
        "1801      NaN\n",
        "1802      NaN\n",
        "1803      NaN\n",
        "1804      NaN\n",
        "1805      NaN\n",
        "1806      NaN\n",
        "1807      NaN\n",
        "1808      NaN\n",
        "1809      NaN\n",
        "1810      NaN\n",
        "1811      NaN\n",
        "1812      NaN\n",
        "1813      NaN\n",
        "1814      NaN\n",
        "...\n",
        "1999    6276428\n",
        "2000        NaN\n",
        "2001        NaN\n",
        "2002        NaN\n",
        "2003        NaN\n",
        "2004        NaN\n",
        "2005        NaN\n",
        "2006        NaN\n",
        "2007        NaN\n",
        "2008        NaN\n",
        "2009        NaN\n",
        "2010        NaN\n",
        "2011    6500000\n",
        "2012    7571345\n",
        "2013        NaN\n",
        "Name: Bogota population, Length: 214, dtype: float64"
       ]
      }
     ],
     "prompt_number": 63
    },
    {
     "cell_type": "code",
     "collapsed": false,
     "input": [
      "series_bogota = series_bogota.interpolate('values')\n",
      "series_bogota"
     ],
     "language": "python",
     "metadata": {},
     "outputs": [
      {
       "metadata": {},
       "output_type": "pyout",
       "prompt_number": 64,
       "text": [
        "1800    21964.000000\n",
        "1801    22850.544643\n",
        "1802    23737.089286\n",
        "1803    24623.633929\n",
        "1804    25510.178571\n",
        "1805    26396.723214\n",
        "1806    27283.267857\n",
        "1807    28169.812500\n",
        "1808    29056.357143\n",
        "1809    29942.901786\n",
        "1810    30829.446429\n",
        "1811    31715.991071\n",
        "1812    32602.535714\n",
        "1813    33489.080357\n",
        "1814    34375.625000\n",
        "...\n",
        "1999    6276428\n",
        "2000    6295059\n",
        "2001    6313690\n",
        "2002    6332321\n",
        "2003    6350952\n",
        "2004    6369583\n",
        "2005    6388214\n",
        "2006    6406845\n",
        "2007    6425476\n",
        "2008    6444107\n",
        "2009    6462738\n",
        "2010    6481369\n",
        "2011    6500000\n",
        "2012    7571345\n",
        "2013    7571345\n",
        "Name: Bogota population, Length: 214, dtype: float64"
       ]
      }
     ],
     "prompt_number": 64
    },
    {
     "cell_type": "code",
     "collapsed": false,
     "input": [
      "(series_bogota/1000000.0).plot()"
     ],
     "language": "python",
     "metadata": {},
     "outputs": [
      {
       "metadata": {},
       "output_type": "pyout",
       "prompt_number": 65,
       "text": [
        "<matplotlib.axes.AxesSubplot at 0x109dc0750>"
       ]
      },
      {
       "metadata": {},
       "output_type": "display_data",
       "png": "[encoded data removed]",
       "text": [
        "<matplotlib.figure.Figure at 0x10993ead0>"
       ]
      }
     ],
     "prompt_number": 65
    },
    {
     "cell_type": "code",
     "collapsed": false,
     "input": [
      "(series_bogota).pct_change().plot()"
     ],
     "language": "python",
     "metadata": {},
     "outputs": [
      {
       "metadata": {},
       "output_type": "pyout",
       "prompt_number": 66,
       "text": [
        "<matplotlib.axes.AxesSubplot at 0x109dc6e90>"
       ]
      },
      {
       "metadata": {},
       "output_type": "display_data",
       "png": "[encoded data removed]",
       "text": [
        "<matplotlib.figure.Figure at 0x109d17910>"
       ]
      }
     ],
     "prompt_number": 66
    },
    {
     "cell_type": "markdown",
     "metadata": {},
     "source": [
      "Finally, let us look at adding series. "
     ]
    },
    {
     "cell_type": "markdown",
     "metadata": {},
     "source": [
      "###Cali###\n",
      "<center>\n",
      "<img src=\"files/cali.jpg\" width=\"600\">\n",
      "</center>\n",
      "[Cali Image by Carlos Duss\u00e1n G\u00f3mez](http://en.wikipedia.org/wiki/File:Gatonegro_Cali_Noche_desde_Cristo_Rey.jpg)\n",
      "\n"
     ]
    },
    {
     "cell_type": "code",
     "collapsed": false,
     "input": [
      "population_cali = {1809: 7546, 1938:101883, 1973:991549, 1985:1429026, 2013:2319684}"
     ],
     "language": "python",
     "metadata": {},
     "outputs": [],
     "prompt_number": 67
    },
    {
     "cell_type": "code",
     "collapsed": false,
     "input": [
      "series_cali = pd.Series(population_cali)\n",
      "series_cali.name = 'Cali (Colombia) Population'\n",
      "series_cali.index.name = 'year'\n",
      "series_cali"
     ],
     "language": "python",
     "metadata": {},
     "outputs": [
      {
       "metadata": {},
       "output_type": "pyout",
       "prompt_number": 68,
       "text": [
        "year\n",
        "1809       7546\n",
        "1938     101883\n",
        "1973     991549\n",
        "1985    1429026\n",
        "2013    2319684\n",
        "Name: Cali (Colombia) Population, dtype: int64"
       ]
      }
     ],
     "prompt_number": 68
    },
    {
     "cell_type": "code",
     "collapsed": false,
     "input": [
      "(series_cali + series_bogota)"
     ],
     "language": "python",
     "metadata": {},
     "outputs": [
      {
       "metadata": {},
       "output_type": "pyout",
       "prompt_number": 69,
       "text": [
        "1800             NaN\n",
        "1801             NaN\n",
        "1802             NaN\n",
        "1803             NaN\n",
        "1804             NaN\n",
        "1805             NaN\n",
        "1806             NaN\n",
        "1807             NaN\n",
        "1808             NaN\n",
        "1809    37488.901786\n",
        "1810             NaN\n",
        "1811             NaN\n",
        "1812             NaN\n",
        "1813             NaN\n",
        "1814             NaN\n",
        "...\n",
        "1999        NaN\n",
        "2000        NaN\n",
        "2001        NaN\n",
        "2002        NaN\n",
        "2003        NaN\n",
        "2004        NaN\n",
        "2005        NaN\n",
        "2006        NaN\n",
        "2007        NaN\n",
        "2008        NaN\n",
        "2009        NaN\n",
        "2010        NaN\n",
        "2011        NaN\n",
        "2012        NaN\n",
        "2013    9891029\n",
        "Length: 214, dtype: float64"
       ]
      }
     ],
     "prompt_number": 69
    },
    {
     "cell_type": "markdown",
     "metadata": {},
     "source": [
      "Probably the most meaningful way to add the series is if they share an index. So I can reindex cali with the index of Bogot\u00e1"
     ]
    },
    {
     "cell_type": "code",
     "collapsed": false,
     "input": [
      "series_cali"
     ],
     "language": "python",
     "metadata": {},
     "outputs": [
      {
       "metadata": {},
       "output_type": "pyout",
       "prompt_number": 70,
       "text": [
        "year\n",
        "1809       7546\n",
        "1938     101883\n",
        "1973     991549\n",
        "1985    1429026\n",
        "2013    2319684\n",
        "Name: Cali (Colombia) Population, dtype: int64"
       ]
      }
     ],
     "prompt_number": 70
    },
    {
     "cell_type": "code",
     "collapsed": false,
     "input": [
      "series_cali = series_cali.reindex(series_bogota.index)\n",
      "series_cali"
     ],
     "language": "python",
     "metadata": {},
     "outputs": [
      {
       "metadata": {},
       "output_type": "pyout",
       "prompt_number": 71,
       "text": [
        "1800     NaN\n",
        "1801     NaN\n",
        "1802     NaN\n",
        "1803     NaN\n",
        "1804     NaN\n",
        "1805     NaN\n",
        "1806     NaN\n",
        "1807     NaN\n",
        "1808     NaN\n",
        "1809    7546\n",
        "1810     NaN\n",
        "1811     NaN\n",
        "1812     NaN\n",
        "1813     NaN\n",
        "1814     NaN\n",
        "...\n",
        "1999        NaN\n",
        "2000        NaN\n",
        "2001        NaN\n",
        "2002        NaN\n",
        "2003        NaN\n",
        "2004        NaN\n",
        "2005        NaN\n",
        "2006        NaN\n",
        "2007        NaN\n",
        "2008        NaN\n",
        "2009        NaN\n",
        "2010        NaN\n",
        "2011        NaN\n",
        "2012        NaN\n",
        "2013    2319684\n",
        "Name: Cali (Colombia) Population, Length: 214, dtype: float64"
       ]
      }
     ],
     "prompt_number": 71
    },
    {
     "cell_type": "code",
     "collapsed": false,
     "input": [
      "len(series_bogota) == len(series_cali)"
     ],
     "language": "python",
     "metadata": {},
     "outputs": [
      {
       "metadata": {},
       "output_type": "pyout",
       "prompt_number": 72,
       "text": [
        "True"
       ]
      }
     ],
     "prompt_number": 72
    },
    {
     "cell_type": "code",
     "collapsed": false,
     "input": [
      "np.alltrue(series_bogota.index == series_cali.index) "
     ],
     "language": "python",
     "metadata": {},
     "outputs": [
      {
       "metadata": {},
       "output_type": "pyout",
       "prompt_number": 73,
       "text": [
        "True"
       ]
      }
     ],
     "prompt_number": 73
    },
    {
     "cell_type": "code",
     "collapsed": false,
     "input": [
      "series_cali = series_cali.interpolate('values')\n",
      "series_cali"
     ],
     "language": "python",
     "metadata": {},
     "outputs": [
      {
       "metadata": {},
       "output_type": "pyout",
       "prompt_number": 74,
       "text": [
        "1800             NaN\n",
        "1801             NaN\n",
        "1802             NaN\n",
        "1803             NaN\n",
        "1804             NaN\n",
        "1805             NaN\n",
        "1806             NaN\n",
        "1807             NaN\n",
        "1808             NaN\n",
        "1809     7546.000000\n",
        "1810     8277.294574\n",
        "1811     9008.589147\n",
        "1812     9739.883721\n",
        "1813    10471.178295\n",
        "1814    11202.472868\n",
        "...\n",
        "1999    1874355.000000\n",
        "2000    1906164.214286\n",
        "2001    1937973.428571\n",
        "2002    1969782.642857\n",
        "2003    2001591.857143\n",
        "2004    2033401.071429\n",
        "2005    2065210.285714\n",
        "2006    2097019.500000\n",
        "2007    2128828.714286\n",
        "2008    2160637.928571\n",
        "2009    2192447.142857\n",
        "2010    2224256.357143\n",
        "2011    2256065.571429\n",
        "2012    2287874.785714\n",
        "2013    2319684.000000\n",
        "Name: Cali (Colombia) Population, Length: 214, dtype: float64"
       ]
      }
     ],
     "prompt_number": 74
    },
    {
     "cell_type": "code",
     "collapsed": false,
     "input": [
      "series_cali = series_cali.fillna(0.0)\n",
      "series_cali"
     ],
     "language": "python",
     "metadata": {},
     "outputs": [
      {
       "metadata": {},
       "output_type": "pyout",
       "prompt_number": 75,
       "text": [
        "1800        0.000000\n",
        "1801        0.000000\n",
        "1802        0.000000\n",
        "1803        0.000000\n",
        "1804        0.000000\n",
        "1805        0.000000\n",
        "1806        0.000000\n",
        "1807        0.000000\n",
        "1808        0.000000\n",
        "1809     7546.000000\n",
        "1810     8277.294574\n",
        "1811     9008.589147\n",
        "1812     9739.883721\n",
        "1813    10471.178295\n",
        "1814    11202.472868\n",
        "...\n",
        "1999    1874355.000000\n",
        "2000    1906164.214286\n",
        "2001    1937973.428571\n",
        "2002    1969782.642857\n",
        "2003    2001591.857143\n",
        "2004    2033401.071429\n",
        "2005    2065210.285714\n",
        "2006    2097019.500000\n",
        "2007    2128828.714286\n",
        "2008    2160637.928571\n",
        "2009    2192447.142857\n",
        "2010    2224256.357143\n",
        "2011    2256065.571429\n",
        "2012    2287874.785714\n",
        "2013    2319684.000000\n",
        "Name: Cali (Colombia) Population, Length: 214, dtype: float64"
       ]
      }
     ],
     "prompt_number": 75
    },
    {
     "cell_type": "markdown",
     "metadata": {},
     "source": [
      "Now finally add the two series"
     ]
    },
    {
     "cell_type": "code",
     "collapsed": false,
     "input": [
      "series_bogota + series_cali"
     ],
     "language": "python",
     "metadata": {},
     "outputs": [
      {
       "metadata": {},
       "output_type": "pyout",
       "prompt_number": 76,
       "text": [
        "1800    21964.000000\n",
        "1801    22850.544643\n",
        "1802    23737.089286\n",
        "1803    24623.633929\n",
        "1804    25510.178571\n",
        "1805    26396.723214\n",
        "1806    27283.267857\n",
        "1807    28169.812500\n",
        "1808    29056.357143\n",
        "1809    37488.901786\n",
        "1810    39106.741002\n",
        "1811    40724.580219\n",
        "1812    42342.419435\n",
        "1813    43960.258652\n",
        "1814    45578.097868\n",
        "...\n",
        "1999    8150783.000000\n",
        "2000    8201223.214286\n",
        "2001    8251663.428571\n",
        "2002    8302103.642857\n",
        "2003    8352543.857143\n",
        "2004    8402984.071429\n",
        "2005    8453424.285714\n",
        "2006    8503864.500000\n",
        "2007    8554304.714286\n",
        "2008    8604744.928571\n",
        "2009    8655185.142857\n",
        "2010    8705625.357143\n",
        "2011    8756065.571429\n",
        "2012    9859219.785714\n",
        "2013    9891029.000000\n",
        "Length: 214, dtype: float64"
       ]
      }
     ],
     "prompt_number": 76
    },
    {
     "cell_type": "code",
     "collapsed": false,
     "input": [
      "series_bogota.plot(label='Bogota population')\n",
      "series_cali.plot(label='Cali population')\n",
      "plt.legend(loc='best')"
     ],
     "language": "python",
     "metadata": {},
     "outputs": [
      {
       "metadata": {},
       "output_type": "pyout",
       "prompt_number": 77,
       "text": [
        "<matplotlib.legend.Legend at 0x109fd1950>"
       ]
      },
      {
       "metadata": {},
       "output_type": "display_data",
       "png": "[encoded data removed]",
       "text": [
        "<matplotlib.figure.Figure at 0x109f70a90>"
       ]
      }
     ],
     "prompt_number": 77
    },
    {
     "cell_type": "markdown",
     "metadata": {},
     "source": [
      "I do not vouch for the statistics here, it is just an example of the tool."
     ]
    },
    {
     "cell_type": "markdown",
     "metadata": {},
     "source": [
      "#Pandas Data Frame"
     ]
    },
    {
     "cell_type": "code",
     "collapsed": false,
     "input": [
      "df = pd.DataFrame({'bogot\u00e1':series_bogota, 'cali':series_cali})"
     ],
     "language": "python",
     "metadata": {},
     "outputs": [],
     "prompt_number": 78
    },
    {
     "cell_type": "code",
     "collapsed": false,
     "input": [
      "df"
     ],
     "language": "python",
     "metadata": {},
     "outputs": [
      {
       "html": [
        "<pre>\n",
        "&lt;class 'pandas.core.frame.DataFrame'&gt;\n",
        "Int64Index: 214 entries, 1800 to 2013\n",
        "Data columns (total 2 columns):\n",
        "bogot\u00e1    214  non-null values\n",
        "cali      214  non-null values\n",
        "dtypes: float64(2)\n",
        "</pre>"
       ],
       "metadata": {},
       "output_type": "pyout",
       "prompt_number": 79,
       "text": [
        "<class 'pandas.core.frame.DataFrame'>\n",
        "Int64Index: 214 entries, 1800 to 2013\n",
        "Data columns (total 2 columns):\n",
        "bogot\u00e1    214  non-null values\n",
        "cali      214  non-null values\n",
        "dtypes: float64(2)"
       ]
      }
     ],
     "prompt_number": 79
    },
    {
     "cell_type": "code",
     "collapsed": false,
     "input": [
      "df.head()"
     ],
     "language": "python",
     "metadata": {},
     "outputs": [
      {
       "html": [
        "<div style=\"max-height:1000px;max-width:1500px;overflow:auto;\">\n",
        "<table border=\"1\" class=\"dataframe\">\n",
        "  <thead>\n",
        "    <tr style=\"text-align: right;\">\n",
        "      <th></th>\n",
        "      <th>bogot\u00e1</th>\n",
        "      <th>cali</th>\n",
        "    </tr>\n",
        "  </thead>\n",
        "  <tbody>\n",
        "    <tr>\n",
        "      <th>1800</th>\n",
        "      <td> 21964.000000</td>\n",
        "      <td> 0</td>\n",
        "    </tr>\n",
        "    <tr>\n",
        "      <th>1801</th>\n",
        "      <td> 22850.544643</td>\n",
        "      <td> 0</td>\n",
        "    </tr>\n",
        "    <tr>\n",
        "      <th>1802</th>\n",
        "      <td> 23737.089286</td>\n",
        "      <td> 0</td>\n",
        "    </tr>\n",
        "    <tr>\n",
        "      <th>1803</th>\n",
        "      <td> 24623.633929</td>\n",
        "      <td> 0</td>\n",
        "    </tr>\n",
        "    <tr>\n",
        "      <th>1804</th>\n",
        "      <td> 25510.178571</td>\n",
        "      <td> 0</td>\n",
        "    </tr>\n",
        "  </tbody>\n",
        "</table>\n",
        "</div>"
       ],
       "metadata": {},
       "output_type": "pyout",
       "prompt_number": 80,
       "text": [
        "            bogot\u00e1  cali\n",
        "1800  21964.000000     0\n",
        "1801  22850.544643     0\n",
        "1802  23737.089286     0\n",
        "1803  24623.633929     0\n",
        "1804  25510.178571     0"
       ]
      }
     ],
     "prompt_number": 80
    },
    {
     "cell_type": "code",
     "collapsed": false,
     "input": [
      "pd.options.display.float_format = '{:20,.2f}'.format\n",
      "df.index.name = 'year'"
     ],
     "language": "python",
     "metadata": {},
     "outputs": [],
     "prompt_number": 81
    },
    {
     "cell_type": "code",
     "collapsed": false,
     "input": [
      "df.tail()"
     ],
     "language": "python",
     "metadata": {},
     "outputs": [
      {
       "html": [
        "<div style=\"max-height:1000px;max-width:1500px;overflow:auto;\">\n",
        "<table border=\"1\" class=\"dataframe\">\n",
        "  <thead>\n",
        "    <tr style=\"text-align: right;\">\n",
        "      <th></th>\n",
        "      <th>bogot\u00e1</th>\n",
        "      <th>cali</th>\n",
        "    </tr>\n",
        "    <tr>\n",
        "      <th>year</th>\n",
        "      <th></th>\n",
        "      <th></th>\n",
        "    </tr>\n",
        "  </thead>\n",
        "  <tbody>\n",
        "    <tr>\n",
        "      <th>2009</th>\n",
        "      <td>        6,462,738.00</td>\n",
        "      <td>        2,192,447.14</td>\n",
        "    </tr>\n",
        "    <tr>\n",
        "      <th>2010</th>\n",
        "      <td>        6,481,369.00</td>\n",
        "      <td>        2,224,256.36</td>\n",
        "    </tr>\n",
        "    <tr>\n",
        "      <th>2011</th>\n",
        "      <td>        6,500,000.00</td>\n",
        "      <td>        2,256,065.57</td>\n",
        "    </tr>\n",
        "    <tr>\n",
        "      <th>2012</th>\n",
        "      <td>        7,571,345.00</td>\n",
        "      <td>        2,287,874.79</td>\n",
        "    </tr>\n",
        "    <tr>\n",
        "      <th>2013</th>\n",
        "      <td>        7,571,345.00</td>\n",
        "      <td>        2,319,684.00</td>\n",
        "    </tr>\n",
        "  </tbody>\n",
        "</table>\n",
        "</div>"
       ],
       "metadata": {},
       "output_type": "pyout",
       "prompt_number": 82,
       "text": [
        "                   bogot\u00e1                 cali\n",
        "year                                          \n",
        "2009         6,462,738.00         2,192,447.14\n",
        "2010         6,481,369.00         2,224,256.36\n",
        "2011         6,500,000.00         2,256,065.57\n",
        "2012         7,571,345.00         2,287,874.79\n",
        "2013         7,571,345.00         2,319,684.00"
       ]
      }
     ],
     "prompt_number": 82
    },
    {
     "cell_type": "markdown",
     "metadata": {},
     "source": [
      "Elements of DataFrame"
     ]
    },
    {
     "cell_type": "code",
     "collapsed": false,
     "input": [
      "df.index"
     ],
     "language": "python",
     "metadata": {},
     "outputs": [
      {
       "metadata": {},
       "output_type": "pyout",
       "prompt_number": 83,
       "text": [
        "Int64Index([1800, 1801, 1802, 1803, 1804, 1805, 1806, 1807, 1808, 1809, 1810, 1811, 1812, 1813, 1814, 1815, 1816, 1817, 1818, 1819, 1820, 1821, 1822, 1823, 1824, 1825, 1826, 1827, 1828, 1829, 1830, 1831, 1832, 1833, 1834, 1835, 1836, 1837, 1838, 1839, 1840, 1841, 1842, 1843, 1844, 1845, 1846, 1847, 1848, 1849, 1850, 1851, 1852, 1853, 1854, 1855, 1856, 1857, 1858, 1859, 1860, 1861, 1862, 1863, 1864, 1865, 1866, 1867, 1868, 1869, 1870, 1871, 1872, 1873, 1874, 1875, 1876, 1877, 1878, 1879, 1880, 1881, 1882, 1883, 1884, 1885, 1886, 1887, 1888, 1889, 1890, 1891, 1892, 1893, 1894, 1895, 1896, 1897, 1898, 1899, 1900, 1901, 1902, 1903, 1904, 1905, 1906, 1907, 1908, 1909, 1910, 1911, 1912, 1913, 1914, 1915, 1916, 1917, 1918, 1919, 1920, 1921, 1922, 1923, 1924, 1925, 1926, 1927, 1928, 1929, 1930, 1931, 1932, 1933, 1934, 1935, 1936, 1937, 1938, 1939, 1940, 1941, 1942, 1943, 1944, 1945, 1946, 1947, 1948, 1949, 1950, 1951, 1952, 1953, 1954, 1955, 1956, 1957, 1958, 1959, 1960, 1961, 1962, 1963, 1964, 1965, 1966, 1967, 1968, 1969, 1970, 1971, 1972, 1973, 1974, 1975, 1976, 1977, 1978, 1979, 1980, 1981, 1982, 1983, 1984, 1985, 1986, 1987, 1988, 1989, 1990, 1991, 1992, 1993, 1994, 1995, 1996, 1997, 1998, 1999, 2000, 2001, 2002, 2003, 2004, 2005, 2006, 2007, 2008, 2009, 2010, 2011, 2012, 2013], dtype=int64)"
       ]
      }
     ],
     "prompt_number": 83
    },
    {
     "cell_type": "code",
     "collapsed": false,
     "input": [
      "df.columns"
     ],
     "language": "python",
     "metadata": {},
     "outputs": [
      {
       "metadata": {},
       "output_type": "pyout",
       "prompt_number": 84,
       "text": [
        "Index([u'bogot\u00e1', u'cali'], dtype=object)"
       ]
      }
     ],
     "prompt_number": 84
    },
    {
     "cell_type": "code",
     "collapsed": false,
     "input": [
      "np.shape(df.values)"
     ],
     "language": "python",
     "metadata": {},
     "outputs": [
      {
       "metadata": {},
       "output_type": "pyout",
       "prompt_number": 85,
       "text": [
        "(214, 2)"
       ]
      }
     ],
     "prompt_number": 85
    },
    {
     "cell_type": "code",
     "collapsed": false,
     "input": [
      "df['population difference'] = df['bogot\u00e1'] - df['cali']"
     ],
     "language": "python",
     "metadata": {},
     "outputs": [],
     "prompt_number": 86
    },
    {
     "cell_type": "code",
     "collapsed": false,
     "input": [
      "df.tail()"
     ],
     "language": "python",
     "metadata": {},
     "outputs": [
      {
       "html": [
        "<div style=\"max-height:1000px;max-width:1500px;overflow:auto;\">\n",
        "<table border=\"1\" class=\"dataframe\">\n",
        "  <thead>\n",
        "    <tr style=\"text-align: right;\">\n",
        "      <th></th>\n",
        "      <th>bogot\u00e1</th>\n",
        "      <th>cali</th>\n",
        "      <th>population difference</th>\n",
        "    </tr>\n",
        "    <tr>\n",
        "      <th>year</th>\n",
        "      <th></th>\n",
        "      <th></th>\n",
        "      <th></th>\n",
        "    </tr>\n",
        "  </thead>\n",
        "  <tbody>\n",
        "    <tr>\n",
        "      <th>2009</th>\n",
        "      <td>        6,462,738.00</td>\n",
        "      <td>        2,192,447.14</td>\n",
        "      <td>        4,270,290.86</td>\n",
        "    </tr>\n",
        "    <tr>\n",
        "      <th>2010</th>\n",
        "      <td>        6,481,369.00</td>\n",
        "      <td>        2,224,256.36</td>\n",
        "      <td>        4,257,112.64</td>\n",
        "    </tr>\n",
        "    <tr>\n",
        "      <th>2011</th>\n",
        "      <td>        6,500,000.00</td>\n",
        "      <td>        2,256,065.57</td>\n",
        "      <td>        4,243,934.43</td>\n",
        "    </tr>\n",
        "    <tr>\n",
        "      <th>2012</th>\n",
        "      <td>        7,571,345.00</td>\n",
        "      <td>        2,287,874.79</td>\n",
        "      <td>        5,283,470.21</td>\n",
        "    </tr>\n",
        "    <tr>\n",
        "      <th>2013</th>\n",
        "      <td>        7,571,345.00</td>\n",
        "      <td>        2,319,684.00</td>\n",
        "      <td>        5,251,661.00</td>\n",
        "    </tr>\n",
        "  </tbody>\n",
        "</table>\n",
        "</div>"
       ],
       "metadata": {},
       "output_type": "pyout",
       "prompt_number": 88,
       "text": [
        "                   bogot\u00e1                 cali  population difference\n",
        "year                                                                 \n",
        "2009         6,462,738.00         2,192,447.14           4,270,290.86\n",
        "2010         6,481,369.00         2,224,256.36           4,257,112.64\n",
        "2011         6,500,000.00         2,256,065.57           4,243,934.43\n",
        "2012         7,571,345.00         2,287,874.79           5,283,470.21\n",
        "2013         7,571,345.00         2,319,684.00           5,251,661.00"
       ]
      }
     ],
     "prompt_number": 88
    },
    {
     "cell_type": "code",
     "collapsed": false,
     "input": [
      "df.describe()"
     ],
     "language": "python",
     "metadata": {},
     "outputs": [
      {
       "html": [
        "<div style=\"max-height:1000px;max-width:1500px;overflow:auto;\">\n",
        "<table border=\"1\" class=\"dataframe\">\n",
        "  <thead>\n",
        "    <tr style=\"text-align: right;\">\n",
        "      <th></th>\n",
        "      <th>bogot\u00e1</th>\n",
        "      <th>cali</th>\n",
        "      <th>population difference</th>\n",
        "    </tr>\n",
        "  </thead>\n",
        "  <tbody>\n",
        "    <tr>\n",
        "      <th>count</th>\n",
        "      <td>              214.00</td>\n",
        "      <td>              214.00</td>\n",
        "      <td>              214.00</td>\n",
        "    </tr>\n",
        "    <tr>\n",
        "      <th>mean</th>\n",
        "      <td>        1,269,633.63</td>\n",
        "      <td>          440,945.03</td>\n",
        "      <td>          828,688.61</td>\n",
        "    </tr>\n",
        "    <tr>\n",
        "      <th>std</th>\n",
        "      <td>        2,057,142.86</td>\n",
        "      <td>          658,404.11</td>\n",
        "      <td>        1,404,249.56</td>\n",
        "    </tr>\n",
        "    <tr>\n",
        "      <th>min</th>\n",
        "      <td>           21,964.00</td>\n",
        "      <td>                0.00</td>\n",
        "      <td>           21,964.00</td>\n",
        "    </tr>\n",
        "    <tr>\n",
        "      <th>25%</th>\n",
        "      <td>           69,172.50</td>\n",
        "      <td>           39,905.78</td>\n",
        "      <td>           29,266.72</td>\n",
        "    </tr>\n",
        "    <tr>\n",
        "      <th>50%</th>\n",
        "      <td>          116,381.00</td>\n",
        "      <td>           78,847.22</td>\n",
        "      <td>           37,533.78</td>\n",
        "    </tr>\n",
        "    <tr>\n",
        "      <th>75%</th>\n",
        "      <td>        1,376,252.60</td>\n",
        "      <td>          654,746.87</td>\n",
        "      <td>          721,505.72</td>\n",
        "    </tr>\n",
        "    <tr>\n",
        "      <th>max</th>\n",
        "      <td>        7,571,345.00</td>\n",
        "      <td>        2,319,684.00</td>\n",
        "      <td>        5,283,470.21</td>\n",
        "    </tr>\n",
        "  </tbody>\n",
        "</table>\n",
        "</div>"
       ],
       "metadata": {},
       "output_type": "pyout",
       "prompt_number": 87,
       "text": [
        "                    bogot\u00e1                 cali  population difference\n",
        "count               214.00               214.00                 214.00\n",
        "mean          1,269,633.63           440,945.03             828,688.61\n",
        "std           2,057,142.86           658,404.11           1,404,249.56\n",
        "min              21,964.00                 0.00              21,964.00\n",
        "25%              69,172.50            39,905.78              29,266.72\n",
        "50%             116,381.00            78,847.22              37,533.78\n",
        "75%           1,376,252.60           654,746.87             721,505.72\n",
        "max           7,571,345.00         2,319,684.00           5,283,470.21"
       ]
      }
     ],
     "prompt_number": 87
    },
    {
     "cell_type": "code",
     "collapsed": false,
     "input": [
      "df['population difference'].tail()"
     ],
     "language": "python",
     "metadata": {},
     "outputs": [
      {
       "metadata": {},
       "output_type": "pyout",
       "prompt_number": 89,
       "text": [
        "year\n",
        "2009           4,270,290.86\n",
        "2010           4,257,112.64\n",
        "2011           4,243,934.43\n",
        "2012           5,283,470.21\n",
        "2013           5,251,661.00\n",
        "Name: population difference, dtype: float64"
       ]
      }
     ],
     "prompt_number": 89
    },
    {
     "cell_type": "code",
     "collapsed": false,
     "input": [
      "df[df.index >1990]"
     ],
     "language": "python",
     "metadata": {},
     "outputs": [
      {
       "html": [
        "<div style=\"max-height:1000px;max-width:1500px;overflow:auto;\">\n",
        "<table border=\"1\" class=\"dataframe\">\n",
        "  <thead>\n",
        "    <tr style=\"text-align: right;\">\n",
        "      <th></th>\n",
        "      <th>bogot\u00e1</th>\n",
        "      <th>cali</th>\n",
        "      <th>population difference</th>\n",
        "    </tr>\n",
        "    <tr>\n",
        "      <th>year</th>\n",
        "      <th></th>\n",
        "      <th></th>\n",
        "      <th></th>\n",
        "    </tr>\n",
        "  </thead>\n",
        "  <tbody>\n",
        "    <tr>\n",
        "      <th>1991</th>\n",
        "      <td>        5,110,749.14</td>\n",
        "      <td>        1,619,881.29</td>\n",
        "      <td>        3,490,867.86</td>\n",
        "    </tr>\n",
        "    <tr>\n",
        "      <th>1992</th>\n",
        "      <td>        5,256,459.00</td>\n",
        "      <td>        1,651,690.50</td>\n",
        "      <td>        3,604,768.50</td>\n",
        "    </tr>\n",
        "    <tr>\n",
        "      <th>1993</th>\n",
        "      <td>        5,402,168.86</td>\n",
        "      <td>        1,683,499.71</td>\n",
        "      <td>        3,718,669.14</td>\n",
        "    </tr>\n",
        "    <tr>\n",
        "      <th>1994</th>\n",
        "      <td>        5,547,878.71</td>\n",
        "      <td>        1,715,308.93</td>\n",
        "      <td>        3,832,569.79</td>\n",
        "    </tr>\n",
        "    <tr>\n",
        "      <th>1995</th>\n",
        "      <td>        5,693,588.57</td>\n",
        "      <td>        1,747,118.14</td>\n",
        "      <td>        3,946,470.43</td>\n",
        "    </tr>\n",
        "    <tr>\n",
        "      <th>1996</th>\n",
        "      <td>        5,839,298.43</td>\n",
        "      <td>        1,778,927.36</td>\n",
        "      <td>        4,060,371.07</td>\n",
        "    </tr>\n",
        "    <tr>\n",
        "      <th>1997</th>\n",
        "      <td>        5,985,008.29</td>\n",
        "      <td>        1,810,736.57</td>\n",
        "      <td>        4,174,271.71</td>\n",
        "    </tr>\n",
        "    <tr>\n",
        "      <th>1998</th>\n",
        "      <td>        6,130,718.14</td>\n",
        "      <td>        1,842,545.79</td>\n",
        "      <td>        4,288,172.36</td>\n",
        "    </tr>\n",
        "    <tr>\n",
        "      <th>1999</th>\n",
        "      <td>        6,276,428.00</td>\n",
        "      <td>        1,874,355.00</td>\n",
        "      <td>        4,402,073.00</td>\n",
        "    </tr>\n",
        "    <tr>\n",
        "      <th>2000</th>\n",
        "      <td>        6,295,059.00</td>\n",
        "      <td>        1,906,164.21</td>\n",
        "      <td>        4,388,894.79</td>\n",
        "    </tr>\n",
        "    <tr>\n",
        "      <th>2001</th>\n",
        "      <td>        6,313,690.00</td>\n",
        "      <td>        1,937,973.43</td>\n",
        "      <td>        4,375,716.57</td>\n",
        "    </tr>\n",
        "    <tr>\n",
        "      <th>2002</th>\n",
        "      <td>        6,332,321.00</td>\n",
        "      <td>        1,969,782.64</td>\n",
        "      <td>        4,362,538.36</td>\n",
        "    </tr>\n",
        "    <tr>\n",
        "      <th>2003</th>\n",
        "      <td>        6,350,952.00</td>\n",
        "      <td>        2,001,591.86</td>\n",
        "      <td>        4,349,360.14</td>\n",
        "    </tr>\n",
        "    <tr>\n",
        "      <th>2004</th>\n",
        "      <td>        6,369,583.00</td>\n",
        "      <td>        2,033,401.07</td>\n",
        "      <td>        4,336,181.93</td>\n",
        "    </tr>\n",
        "    <tr>\n",
        "      <th>2005</th>\n",
        "      <td>        6,388,214.00</td>\n",
        "      <td>        2,065,210.29</td>\n",
        "      <td>        4,323,003.71</td>\n",
        "    </tr>\n",
        "    <tr>\n",
        "      <th>2006</th>\n",
        "      <td>        6,406,845.00</td>\n",
        "      <td>        2,097,019.50</td>\n",
        "      <td>        4,309,825.50</td>\n",
        "    </tr>\n",
        "    <tr>\n",
        "      <th>2007</th>\n",
        "      <td>        6,425,476.00</td>\n",
        "      <td>        2,128,828.71</td>\n",
        "      <td>        4,296,647.29</td>\n",
        "    </tr>\n",
        "    <tr>\n",
        "      <th>2008</th>\n",
        "      <td>        6,444,107.00</td>\n",
        "      <td>        2,160,637.93</td>\n",
        "      <td>        4,283,469.07</td>\n",
        "    </tr>\n",
        "    <tr>\n",
        "      <th>2009</th>\n",
        "      <td>        6,462,738.00</td>\n",
        "      <td>        2,192,447.14</td>\n",
        "      <td>        4,270,290.86</td>\n",
        "    </tr>\n",
        "    <tr>\n",
        "      <th>2010</th>\n",
        "      <td>        6,481,369.00</td>\n",
        "      <td>        2,224,256.36</td>\n",
        "      <td>        4,257,112.64</td>\n",
        "    </tr>\n",
        "    <tr>\n",
        "      <th>2011</th>\n",
        "      <td>        6,500,000.00</td>\n",
        "      <td>        2,256,065.57</td>\n",
        "      <td>        4,243,934.43</td>\n",
        "    </tr>\n",
        "    <tr>\n",
        "      <th>2012</th>\n",
        "      <td>        7,571,345.00</td>\n",
        "      <td>        2,287,874.79</td>\n",
        "      <td>        5,283,470.21</td>\n",
        "    </tr>\n",
        "    <tr>\n",
        "      <th>2013</th>\n",
        "      <td>        7,571,345.00</td>\n",
        "      <td>        2,319,684.00</td>\n",
        "      <td>        5,251,661.00</td>\n",
        "    </tr>\n",
        "  </tbody>\n",
        "</table>\n",
        "</div>"
       ],
       "metadata": {},
       "output_type": "pyout",
       "prompt_number": 90,
       "text": [
        "                   bogot\u00e1                 cali  population difference\n",
        "year                                                                 \n",
        "1991         5,110,749.14         1,619,881.29           3,490,867.86\n",
        "1992         5,256,459.00         1,651,690.50           3,604,768.50\n",
        "1993         5,402,168.86         1,683,499.71           3,718,669.14\n",
        "1994         5,547,878.71         1,715,308.93           3,832,569.79\n",
        "1995         5,693,588.57         1,747,118.14           3,946,470.43\n",
        "1996         5,839,298.43         1,778,927.36           4,060,371.07\n",
        "1997         5,985,008.29         1,810,736.57           4,174,271.71\n",
        "1998         6,130,718.14         1,842,545.79           4,288,172.36\n",
        "1999         6,276,428.00         1,874,355.00           4,402,073.00\n",
        "2000         6,295,059.00         1,906,164.21           4,388,894.79\n",
        "2001         6,313,690.00         1,937,973.43           4,375,716.57\n",
        "2002         6,332,321.00         1,969,782.64           4,362,538.36\n",
        "2003         6,350,952.00         2,001,591.86           4,349,360.14\n",
        "2004         6,369,583.00         2,033,401.07           4,336,181.93\n",
        "2005         6,388,214.00         2,065,210.29           4,323,003.71\n",
        "2006         6,406,845.00         2,097,019.50           4,309,825.50\n",
        "2007         6,425,476.00         2,128,828.71           4,296,647.29\n",
        "2008         6,444,107.00         2,160,637.93           4,283,469.07\n",
        "2009         6,462,738.00         2,192,447.14           4,270,290.86\n",
        "2010         6,481,369.00         2,224,256.36           4,257,112.64\n",
        "2011         6,500,000.00         2,256,065.57           4,243,934.43\n",
        "2012         7,571,345.00         2,287,874.79           5,283,470.21\n",
        "2013         7,571,345.00         2,319,684.00           5,251,661.00"
       ]
      }
     ],
     "prompt_number": 90
    },
    {
     "cell_type": "code",
     "collapsed": false,
     "input": [
      "df.plot()"
     ],
     "language": "python",
     "metadata": {},
     "outputs": [
      {
       "metadata": {},
       "output_type": "pyout",
       "prompt_number": 91,
       "text": [
        "<matplotlib.axes.AxesSubplot at 0x10a2c04d0>"
       ]
      },
      {
       "metadata": {},
       "output_type": "display_data",
       "png": "[encoded data removed]",
       "text": [
        "<matplotlib.figure.Figure at 0x1013fa950>"
       ]
      }
     ],
     "prompt_number": 91
    },
    {
     "cell_type": "code",
     "collapsed": false,
     "input": [
      "!ls *.csv"
     ],
     "language": "python",
     "metadata": {},
     "outputs": [
      {
       "output_type": "stream",
       "stream": "stdout",
       "text": [
        "cali_and_bogota.csv metropolitan.csv    patients.csv\r\n"
       ]
      }
     ],
     "prompt_number": 92
    },
    {
     "cell_type": "code",
     "collapsed": false,
     "input": [
      "df.to_csv('cali_and_bogota.csv')"
     ],
     "language": "python",
     "metadata": {},
     "outputs": [],
     "prompt_number": 93
    },
    {
     "cell_type": "code",
     "collapsed": false,
     "input": [
      "!head cali_and_bogota.csv"
     ],
     "language": "python",
     "metadata": {},
     "outputs": [
      {
       "output_type": "stream",
       "stream": "stdout",
       "text": [
        "year,bogot\u00e1,cali,population difference\r\n",
        "1800,21964.0,0.0,21964.0\r\n",
        "1801,22850.54464285714,0.0,22850.54464285714\r\n",
        "1802,23737.089285714286,0.0,23737.089285714286\r\n",
        "1803,24623.633928571428,0.0,24623.633928571428\r\n",
        "1804,25510.178571428572,0.0,25510.178571428572\r\n",
        "1805,26396.723214285714,0.0,26396.723214285714\r\n",
        "1806,27283.267857142855,0.0,27283.267857142855\r\n",
        "1807,28169.8125,0.0,28169.8125\r\n",
        "1808,29056.357142857145,0.0,29056.357142857145\r\n"
       ]
      }
     ],
     "prompt_number": 94
    },
    {
     "cell_type": "markdown",
     "metadata": {},
     "source": [
      "There are many ways to initialize DataFrames"
     ]
    },
    {
     "cell_type": "markdown",
     "metadata": {},
     "source": [
      "#Let's be more cosmopolitan (if we still have 7 more minutes)"
     ]
    },
    {
     "cell_type": "code",
     "collapsed": false,
     "input": [
      "!cat metropolitan.csv"
     ],
     "language": "python",
     "metadata": {},
     "outputs": [
      {
       "output_type": "stream",
       "stream": "stdout",
       "text": [
        "Metropolitan area,Country,Population,Area\r\n",
        "Tokyo,Japan,32450000,8014\r\n",
        "Seoul,South Korea,20550000,5076\r\n",
        "Mexico City,Mexico,20450000,7346\r\n",
        "New York City,United States,19750000,17884\r\n",
        "Mumbai-Bombay,India,19200000,2350\r\n",
        "Jakarta,Indonesia,18900000,5100\r\n",
        "S\u00e3o Paulo,Brazil,18850000,8479\r\n",
        "New Delhi,India,18600000,3182\r\n",
        "Osaka-Kobe-Kyoto,Japan,17375000,6930\r\n",
        "Shanghai,China,16650000,5177\r\n",
        "Manila,Philippines,16300000,2521\r\n",
        "Hong Kong,Hong Kong/China,15800000,3051\r\n",
        "Los Angeles,United States,15250000,10780\r\n",
        "Kolkata,India,15100000,1785\r\n",
        "Moscow,Russia,15000000,14925\r\n",
        "Cairo,Egypt,14450000,1600\r\n",
        "Buenos Aires,Argentina,13170000,10888\r\n",
        "London,United Kingdom,12875000,11391\r\n",
        "Beijing,China,12500000,6562\r\n",
        "Karachi,Pakistan,11800000,1100"
       ]
      }
     ],
     "prompt_number": 95
    },
    {
     "cell_type": "code",
     "collapsed": false,
     "input": [
      "df = pd.read_csv('metropolitan.csv')\n",
      "df"
     ],
     "language": "python",
     "metadata": {},
     "outputs": [
      {
       "html": [
        "<div style=\"max-height:1000px;max-width:1500px;overflow:auto;\">\n",
        "<table border=\"1\" class=\"dataframe\">\n",
        "  <thead>\n",
        "    <tr style=\"text-align: right;\">\n",
        "      <th></th>\n",
        "      <th>Metropolitan area</th>\n",
        "      <th>Country</th>\n",
        "      <th>Population</th>\n",
        "      <th>Area</th>\n",
        "    </tr>\n",
        "  </thead>\n",
        "  <tbody>\n",
        "    <tr>\n",
        "      <th>0 </th>\n",
        "      <td>            Tokyo</td>\n",
        "      <td>           Japan</td>\n",
        "      <td> 32450000</td>\n",
        "      <td>  8014</td>\n",
        "    </tr>\n",
        "    <tr>\n",
        "      <th>1 </th>\n",
        "      <td>            Seoul</td>\n",
        "      <td>     South Korea</td>\n",
        "      <td> 20550000</td>\n",
        "      <td>  5076</td>\n",
        "    </tr>\n",
        "    <tr>\n",
        "      <th>2 </th>\n",
        "      <td>      Mexico City</td>\n",
        "      <td>          Mexico</td>\n",
        "      <td> 20450000</td>\n",
        "      <td>  7346</td>\n",
        "    </tr>\n",
        "    <tr>\n",
        "      <th>3 </th>\n",
        "      <td>    New York City</td>\n",
        "      <td>   United States</td>\n",
        "      <td> 19750000</td>\n",
        "      <td> 17884</td>\n",
        "    </tr>\n",
        "    <tr>\n",
        "      <th>4 </th>\n",
        "      <td>    Mumbai-Bombay</td>\n",
        "      <td>           India</td>\n",
        "      <td> 19200000</td>\n",
        "      <td>  2350</td>\n",
        "    </tr>\n",
        "    <tr>\n",
        "      <th>5 </th>\n",
        "      <td>          Jakarta</td>\n",
        "      <td>       Indonesia</td>\n",
        "      <td> 18900000</td>\n",
        "      <td>  5100</td>\n",
        "    </tr>\n",
        "    <tr>\n",
        "      <th>6 </th>\n",
        "      <td>        S\u00e3o Paulo</td>\n",
        "      <td>          Brazil</td>\n",
        "      <td> 18850000</td>\n",
        "      <td>  8479</td>\n",
        "    </tr>\n",
        "    <tr>\n",
        "      <th>7 </th>\n",
        "      <td>        New Delhi</td>\n",
        "      <td>           India</td>\n",
        "      <td> 18600000</td>\n",
        "      <td>  3182</td>\n",
        "    </tr>\n",
        "    <tr>\n",
        "      <th>8 </th>\n",
        "      <td> Osaka-Kobe-Kyoto</td>\n",
        "      <td>           Japan</td>\n",
        "      <td> 17375000</td>\n",
        "      <td>  6930</td>\n",
        "    </tr>\n",
        "    <tr>\n",
        "      <th>9 </th>\n",
        "      <td>         Shanghai</td>\n",
        "      <td>           China</td>\n",
        "      <td> 16650000</td>\n",
        "      <td>  5177</td>\n",
        "    </tr>\n",
        "    <tr>\n",
        "      <th>10</th>\n",
        "      <td>           Manila</td>\n",
        "      <td>     Philippines</td>\n",
        "      <td> 16300000</td>\n",
        "      <td>  2521</td>\n",
        "    </tr>\n",
        "    <tr>\n",
        "      <th>11</th>\n",
        "      <td>        Hong Kong</td>\n",
        "      <td> Hong Kong/China</td>\n",
        "      <td> 15800000</td>\n",
        "      <td>  3051</td>\n",
        "    </tr>\n",
        "    <tr>\n",
        "      <th>12</th>\n",
        "      <td>      Los Angeles</td>\n",
        "      <td>   United States</td>\n",
        "      <td> 15250000</td>\n",
        "      <td> 10780</td>\n",
        "    </tr>\n",
        "    <tr>\n",
        "      <th>13</th>\n",
        "      <td>          Kolkata</td>\n",
        "      <td>           India</td>\n",
        "      <td> 15100000</td>\n",
        "      <td>  1785</td>\n",
        "    </tr>\n",
        "    <tr>\n",
        "      <th>14</th>\n",
        "      <td>           Moscow</td>\n",
        "      <td>          Russia</td>\n",
        "      <td> 15000000</td>\n",
        "      <td> 14925</td>\n",
        "    </tr>\n",
        "    <tr>\n",
        "      <th>15</th>\n",
        "      <td>            Cairo</td>\n",
        "      <td>           Egypt</td>\n",
        "      <td> 14450000</td>\n",
        "      <td>  1600</td>\n",
        "    </tr>\n",
        "    <tr>\n",
        "      <th>16</th>\n",
        "      <td>     Buenos Aires</td>\n",
        "      <td>       Argentina</td>\n",
        "      <td> 13170000</td>\n",
        "      <td> 10888</td>\n",
        "    </tr>\n",
        "    <tr>\n",
        "      <th>17</th>\n",
        "      <td>           London</td>\n",
        "      <td>  United Kingdom</td>\n",
        "      <td> 12875000</td>\n",
        "      <td> 11391</td>\n",
        "    </tr>\n",
        "    <tr>\n",
        "      <th>18</th>\n",
        "      <td>          Beijing</td>\n",
        "      <td>           China</td>\n",
        "      <td> 12500000</td>\n",
        "      <td>  6562</td>\n",
        "    </tr>\n",
        "    <tr>\n",
        "      <th>19</th>\n",
        "      <td>          Karachi</td>\n",
        "      <td>        Pakistan</td>\n",
        "      <td> 11800000</td>\n",
        "      <td>  1100</td>\n",
        "    </tr>\n",
        "  </tbody>\n",
        "</table>\n",
        "</div>"
       ],
       "metadata": {},
       "output_type": "pyout",
       "prompt_number": 96,
       "text": [
        "   Metropolitan area          Country  Population   Area\n",
        "0              Tokyo            Japan    32450000   8014\n",
        "1              Seoul      South Korea    20550000   5076\n",
        "2        Mexico City           Mexico    20450000   7346\n",
        "3      New York City    United States    19750000  17884\n",
        "4      Mumbai-Bombay            India    19200000   2350\n",
        "5            Jakarta        Indonesia    18900000   5100\n",
        "6          S\u00e3o Paulo           Brazil    18850000   8479\n",
        "7          New Delhi            India    18600000   3182\n",
        "8   Osaka-Kobe-Kyoto            Japan    17375000   6930\n",
        "9           Shanghai            China    16650000   5177\n",
        "10            Manila      Philippines    16300000   2521\n",
        "11         Hong Kong  Hong Kong/China    15800000   3051\n",
        "12       Los Angeles    United States    15250000  10780\n",
        "13           Kolkata            India    15100000   1785\n",
        "14            Moscow           Russia    15000000  14925\n",
        "15             Cairo            Egypt    14450000   1600\n",
        "16      Buenos Aires        Argentina    13170000  10888\n",
        "17            London   United Kingdom    12875000  11391\n",
        "18           Beijing            China    12500000   6562\n",
        "19           Karachi         Pakistan    11800000   1100"
       ]
      }
     ],
     "prompt_number": 96
    },
    {
     "cell_type": "code",
     "collapsed": false,
     "input": [
      "df = pd.read_csv('metropolitan.csv', index_col='Metropolitan area')\n",
      "df"
     ],
     "language": "python",
     "metadata": {},
     "outputs": [
      {
       "html": [
        "<div style=\"max-height:1000px;max-width:1500px;overflow:auto;\">\n",
        "<table border=\"1\" class=\"dataframe\">\n",
        "  <thead>\n",
        "    <tr style=\"text-align: right;\">\n",
        "      <th></th>\n",
        "      <th>Country</th>\n",
        "      <th>Population</th>\n",
        "      <th>Area</th>\n",
        "    </tr>\n",
        "    <tr>\n",
        "      <th>Metropolitan area</th>\n",
        "      <th></th>\n",
        "      <th></th>\n",
        "      <th></th>\n",
        "    </tr>\n",
        "  </thead>\n",
        "  <tbody>\n",
        "    <tr>\n",
        "      <th>Tokyo</th>\n",
        "      <td>           Japan</td>\n",
        "      <td> 32450000</td>\n",
        "      <td>  8014</td>\n",
        "    </tr>\n",
        "    <tr>\n",
        "      <th>Seoul</th>\n",
        "      <td>     South Korea</td>\n",
        "      <td> 20550000</td>\n",
        "      <td>  5076</td>\n",
        "    </tr>\n",
        "    <tr>\n",
        "      <th>Mexico City</th>\n",
        "      <td>          Mexico</td>\n",
        "      <td> 20450000</td>\n",
        "      <td>  7346</td>\n",
        "    </tr>\n",
        "    <tr>\n",
        "      <th>New York City</th>\n",
        "      <td>   United States</td>\n",
        "      <td> 19750000</td>\n",
        "      <td> 17884</td>\n",
        "    </tr>\n",
        "    <tr>\n",
        "      <th>Mumbai-Bombay</th>\n",
        "      <td>           India</td>\n",
        "      <td> 19200000</td>\n",
        "      <td>  2350</td>\n",
        "    </tr>\n",
        "    <tr>\n",
        "      <th>Jakarta</th>\n",
        "      <td>       Indonesia</td>\n",
        "      <td> 18900000</td>\n",
        "      <td>  5100</td>\n",
        "    </tr>\n",
        "    <tr>\n",
        "      <th>S\u00e3o Paulo</th>\n",
        "      <td>          Brazil</td>\n",
        "      <td> 18850000</td>\n",
        "      <td>  8479</td>\n",
        "    </tr>\n",
        "    <tr>\n",
        "      <th>New Delhi</th>\n",
        "      <td>           India</td>\n",
        "      <td> 18600000</td>\n",
        "      <td>  3182</td>\n",
        "    </tr>\n",
        "    <tr>\n",
        "      <th>Osaka-Kobe-Kyoto</th>\n",
        "      <td>           Japan</td>\n",
        "      <td> 17375000</td>\n",
        "      <td>  6930</td>\n",
        "    </tr>\n",
        "    <tr>\n",
        "      <th>Shanghai</th>\n",
        "      <td>           China</td>\n",
        "      <td> 16650000</td>\n",
        "      <td>  5177</td>\n",
        "    </tr>\n",
        "    <tr>\n",
        "      <th>Manila</th>\n",
        "      <td>     Philippines</td>\n",
        "      <td> 16300000</td>\n",
        "      <td>  2521</td>\n",
        "    </tr>\n",
        "    <tr>\n",
        "      <th>Hong Kong</th>\n",
        "      <td> Hong Kong/China</td>\n",
        "      <td> 15800000</td>\n",
        "      <td>  3051</td>\n",
        "    </tr>\n",
        "    <tr>\n",
        "      <th>Los Angeles</th>\n",
        "      <td>   United States</td>\n",
        "      <td> 15250000</td>\n",
        "      <td> 10780</td>\n",
        "    </tr>\n",
        "    <tr>\n",
        "      <th>Kolkata</th>\n",
        "      <td>           India</td>\n",
        "      <td> 15100000</td>\n",
        "      <td>  1785</td>\n",
        "    </tr>\n",
        "    <tr>\n",
        "      <th>Moscow</th>\n",
        "      <td>          Russia</td>\n",
        "      <td> 15000000</td>\n",
        "      <td> 14925</td>\n",
        "    </tr>\n",
        "    <tr>\n",
        "      <th>Cairo</th>\n",
        "      <td>           Egypt</td>\n",
        "      <td> 14450000</td>\n",
        "      <td>  1600</td>\n",
        "    </tr>\n",
        "    <tr>\n",
        "      <th>Buenos Aires</th>\n",
        "      <td>       Argentina</td>\n",
        "      <td> 13170000</td>\n",
        "      <td> 10888</td>\n",
        "    </tr>\n",
        "    <tr>\n",
        "      <th>London</th>\n",
        "      <td>  United Kingdom</td>\n",
        "      <td> 12875000</td>\n",
        "      <td> 11391</td>\n",
        "    </tr>\n",
        "    <tr>\n",
        "      <th>Beijing</th>\n",
        "      <td>           China</td>\n",
        "      <td> 12500000</td>\n",
        "      <td>  6562</td>\n",
        "    </tr>\n",
        "    <tr>\n",
        "      <th>Karachi</th>\n",
        "      <td>        Pakistan</td>\n",
        "      <td> 11800000</td>\n",
        "      <td>  1100</td>\n",
        "    </tr>\n",
        "  </tbody>\n",
        "</table>\n",
        "</div>"
       ],
       "metadata": {},
       "output_type": "pyout",
       "prompt_number": 97,
       "text": [
        "                           Country  Population   Area\n",
        "Metropolitan area                                    \n",
        "Tokyo                        Japan    32450000   8014\n",
        "Seoul                  South Korea    20550000   5076\n",
        "Mexico City                 Mexico    20450000   7346\n",
        "New York City        United States    19750000  17884\n",
        "Mumbai-Bombay                India    19200000   2350\n",
        "Jakarta                  Indonesia    18900000   5100\n",
        "S\u00e3o Paulo                   Brazil    18850000   8479\n",
        "New Delhi                    India    18600000   3182\n",
        "Osaka-Kobe-Kyoto             Japan    17375000   6930\n",
        "Shanghai                     China    16650000   5177\n",
        "Manila                 Philippines    16300000   2521\n",
        "Hong Kong          Hong Kong/China    15800000   3051\n",
        "Los Angeles          United States    15250000  10780\n",
        "Kolkata                      India    15100000   1785\n",
        "Moscow                      Russia    15000000  14925\n",
        "Cairo                        Egypt    14450000   1600\n",
        "Buenos Aires             Argentina    13170000  10888\n",
        "London              United Kingdom    12875000  11391\n",
        "Beijing                      China    12500000   6562\n",
        "Karachi                   Pakistan    11800000   1100"
       ]
      }
     ],
     "prompt_number": 97
    },
    {
     "cell_type": "code",
     "collapsed": false,
     "input": [
      "df.describe()"
     ],
     "language": "python",
     "metadata": {},
     "outputs": [
      {
       "html": [
        "<div style=\"max-height:1000px;max-width:1500px;overflow:auto;\">\n",
        "<table border=\"1\" class=\"dataframe\">\n",
        "  <thead>\n",
        "    <tr style=\"text-align: right;\">\n",
        "      <th></th>\n",
        "      <th>Population</th>\n",
        "      <th>Area</th>\n",
        "    </tr>\n",
        "  </thead>\n",
        "  <tbody>\n",
        "    <tr>\n",
        "      <th>count</th>\n",
        "      <td>               20.00</td>\n",
        "      <td>               20.00</td>\n",
        "    </tr>\n",
        "    <tr>\n",
        "      <th>mean</th>\n",
        "      <td>       17,251,000.00</td>\n",
        "      <td>            6,707.05</td>\n",
        "    </tr>\n",
        "    <tr>\n",
        "      <th>std</th>\n",
        "      <td>        4,485,562.40</td>\n",
        "      <td>            4,619.33</td>\n",
        "    </tr>\n",
        "    <tr>\n",
        "      <th>min</th>\n",
        "      <td>       11,800,000.00</td>\n",
        "      <td>            1,100.00</td>\n",
        "    </tr>\n",
        "    <tr>\n",
        "      <th>25%</th>\n",
        "      <td>       14,862,500.00</td>\n",
        "      <td>            2,918.50</td>\n",
        "    </tr>\n",
        "    <tr>\n",
        "      <th>50%</th>\n",
        "      <td>       16,475,000.00</td>\n",
        "      <td>            5,869.50</td>\n",
        "    </tr>\n",
        "    <tr>\n",
        "      <th>75%</th>\n",
        "      <td>       18,975,000.00</td>\n",
        "      <td>            9,054.25</td>\n",
        "    </tr>\n",
        "    <tr>\n",
        "      <th>max</th>\n",
        "      <td>       32,450,000.00</td>\n",
        "      <td>           17,884.00</td>\n",
        "    </tr>\n",
        "  </tbody>\n",
        "</table>\n",
        "</div>"
       ],
       "metadata": {},
       "output_type": "pyout",
       "prompt_number": 98,
       "text": [
        "                Population                 Area\n",
        "count                20.00                20.00\n",
        "mean         17,251,000.00             6,707.05\n",
        "std           4,485,562.40             4,619.33\n",
        "min          11,800,000.00             1,100.00\n",
        "25%          14,862,500.00             2,918.50\n",
        "50%          16,475,000.00             5,869.50\n",
        "75%          18,975,000.00             9,054.25\n",
        "max          32,450,000.00            17,884.00"
       ]
      }
     ],
     "prompt_number": 98
    },
    {
     "cell_type": "code",
     "collapsed": false,
     "input": [
      "df.dtypes"
     ],
     "language": "python",
     "metadata": {},
     "outputs": [
      {
       "metadata": {},
       "output_type": "pyout",
       "prompt_number": 99,
       "text": [
        "Country       object\n",
        "Population     int64\n",
        "Area           int64\n",
        "dtype: object"
       ]
      }
     ],
     "prompt_number": 99
    },
    {
     "cell_type": "code",
     "collapsed": false,
     "input": [
      "df['Population']= df['Population'].apply(float)\n",
      "df['Area']= df['Area'].apply(float)"
     ],
     "language": "python",
     "metadata": {},
     "outputs": [],
     "prompt_number": 100
    },
    {
     "cell_type": "code",
     "collapsed": false,
     "input": [
      "df.dtypes"
     ],
     "language": "python",
     "metadata": {},
     "outputs": [
      {
       "metadata": {},
       "output_type": "pyout",
       "prompt_number": 101,
       "text": [
        "Country        object\n",
        "Population    float64\n",
        "Area          float64\n",
        "dtype: object"
       ]
      }
     ],
     "prompt_number": 101
    },
    {
     "cell_type": "markdown",
     "metadata": {},
     "source": [
      "##Three biggest metro areas"
     ]
    },
    {
     "cell_type": "code",
     "collapsed": false,
     "input": [
      "df.sort('Population')\n",
      "df.head(3)"
     ],
     "language": "python",
     "metadata": {},
     "outputs": [
      {
       "html": [
        "<div style=\"max-height:1000px;max-width:1500px;overflow:auto;\">\n",
        "<table border=\"1\" class=\"dataframe\">\n",
        "  <thead>\n",
        "    <tr style=\"text-align: right;\">\n",
        "      <th></th>\n",
        "      <th>Country</th>\n",
        "      <th>Population</th>\n",
        "      <th>Area</th>\n",
        "    </tr>\n",
        "    <tr>\n",
        "      <th>Metropolitan area</th>\n",
        "      <th></th>\n",
        "      <th></th>\n",
        "      <th></th>\n",
        "    </tr>\n",
        "  </thead>\n",
        "  <tbody>\n",
        "    <tr>\n",
        "      <th>Tokyo</th>\n",
        "      <td>       Japan</td>\n",
        "      <td>       32,450,000.00</td>\n",
        "      <td>            8,014.00</td>\n",
        "    </tr>\n",
        "    <tr>\n",
        "      <th>Seoul</th>\n",
        "      <td> South Korea</td>\n",
        "      <td>       20,550,000.00</td>\n",
        "      <td>            5,076.00</td>\n",
        "    </tr>\n",
        "    <tr>\n",
        "      <th>Mexico City</th>\n",
        "      <td>      Mexico</td>\n",
        "      <td>       20,450,000.00</td>\n",
        "      <td>            7,346.00</td>\n",
        "    </tr>\n",
        "  </tbody>\n",
        "</table>\n",
        "</div>"
       ],
       "metadata": {},
       "output_type": "pyout",
       "prompt_number": 102,
       "text": [
        "                       Country           Population                 Area\n",
        "Metropolitan area                                                       \n",
        "Tokyo                    Japan        32,450,000.00             8,014.00\n",
        "Seoul              South Korea        20,550,000.00             5,076.00\n",
        "Mexico City             Mexico        20,450,000.00             7,346.00"
       ]
      }
     ],
     "prompt_number": 102
    },
    {
     "cell_type": "markdown",
     "metadata": {},
     "source": [
      "Area largest than 10.0000 km2"
     ]
    },
    {
     "cell_type": "code",
     "collapsed": false,
     "input": [
      "df[df['Area']> 10000]"
     ],
     "language": "python",
     "metadata": {},
     "outputs": [
      {
       "html": [
        "<div style=\"max-height:1000px;max-width:1500px;overflow:auto;\">\n",
        "<table border=\"1\" class=\"dataframe\">\n",
        "  <thead>\n",
        "    <tr style=\"text-align: right;\">\n",
        "      <th></th>\n",
        "      <th>Country</th>\n",
        "      <th>Population</th>\n",
        "      <th>Area</th>\n",
        "    </tr>\n",
        "    <tr>\n",
        "      <th>Metropolitan area</th>\n",
        "      <th></th>\n",
        "      <th></th>\n",
        "      <th></th>\n",
        "    </tr>\n",
        "  </thead>\n",
        "  <tbody>\n",
        "    <tr>\n",
        "      <th>New York City</th>\n",
        "      <td>  United States</td>\n",
        "      <td>       19,750,000.00</td>\n",
        "      <td>           17,884.00</td>\n",
        "    </tr>\n",
        "    <tr>\n",
        "      <th>Los Angeles</th>\n",
        "      <td>  United States</td>\n",
        "      <td>       15,250,000.00</td>\n",
        "      <td>           10,780.00</td>\n",
        "    </tr>\n",
        "    <tr>\n",
        "      <th>Moscow</th>\n",
        "      <td>         Russia</td>\n",
        "      <td>       15,000,000.00</td>\n",
        "      <td>           14,925.00</td>\n",
        "    </tr>\n",
        "    <tr>\n",
        "      <th>Buenos Aires</th>\n",
        "      <td>      Argentina</td>\n",
        "      <td>       13,170,000.00</td>\n",
        "      <td>           10,888.00</td>\n",
        "    </tr>\n",
        "    <tr>\n",
        "      <th>London</th>\n",
        "      <td> United Kingdom</td>\n",
        "      <td>       12,875,000.00</td>\n",
        "      <td>           11,391.00</td>\n",
        "    </tr>\n",
        "  </tbody>\n",
        "</table>\n",
        "</div>"
       ],
       "metadata": {},
       "output_type": "pyout",
       "prompt_number": 103,
       "text": [
        "                          Country           Population                 Area\n",
        "Metropolitan area                                                          \n",
        "New York City       United States        19,750,000.00            17,884.00\n",
        "Los Angeles         United States        15,250,000.00            10,780.00\n",
        "Moscow                     Russia        15,000,000.00            14,925.00\n",
        "Buenos Aires            Argentina        13,170,000.00            10,888.00\n",
        "London             United Kingdom        12,875,000.00            11,391.00"
       ]
      }
     ],
     "prompt_number": 103
    },
    {
     "cell_type": "code",
     "collapsed": false,
     "input": [
      "df[(df['Area']> 10000) & (df['Population'] > 20000)]"
     ],
     "language": "python",
     "metadata": {},
     "outputs": [
      {
       "html": [
        "<div style=\"max-height:1000px;max-width:1500px;overflow:auto;\">\n",
        "<table border=\"1\" class=\"dataframe\">\n",
        "  <thead>\n",
        "    <tr style=\"text-align: right;\">\n",
        "      <th></th>\n",
        "      <th>Country</th>\n",
        "      <th>Population</th>\n",
        "      <th>Area</th>\n",
        "    </tr>\n",
        "    <tr>\n",
        "      <th>Metropolitan area</th>\n",
        "      <th></th>\n",
        "      <th></th>\n",
        "      <th></th>\n",
        "    </tr>\n",
        "  </thead>\n",
        "  <tbody>\n",
        "    <tr>\n",
        "      <th>New York City</th>\n",
        "      <td>  United States</td>\n",
        "      <td>       19,750,000.00</td>\n",
        "      <td>           17,884.00</td>\n",
        "    </tr>\n",
        "    <tr>\n",
        "      <th>Los Angeles</th>\n",
        "      <td>  United States</td>\n",
        "      <td>       15,250,000.00</td>\n",
        "      <td>           10,780.00</td>\n",
        "    </tr>\n",
        "    <tr>\n",
        "      <th>Moscow</th>\n",
        "      <td>         Russia</td>\n",
        "      <td>       15,000,000.00</td>\n",
        "      <td>           14,925.00</td>\n",
        "    </tr>\n",
        "    <tr>\n",
        "      <th>Buenos Aires</th>\n",
        "      <td>      Argentina</td>\n",
        "      <td>       13,170,000.00</td>\n",
        "      <td>           10,888.00</td>\n",
        "    </tr>\n",
        "    <tr>\n",
        "      <th>London</th>\n",
        "      <td> United Kingdom</td>\n",
        "      <td>       12,875,000.00</td>\n",
        "      <td>           11,391.00</td>\n",
        "    </tr>\n",
        "  </tbody>\n",
        "</table>\n",
        "</div>"
       ],
       "metadata": {},
       "output_type": "pyout",
       "prompt_number": 104,
       "text": [
        "                          Country           Population                 Area\n",
        "Metropolitan area                                                          \n",
        "New York City       United States        19,750,000.00            17,884.00\n",
        "Los Angeles         United States        15,250,000.00            10,780.00\n",
        "Moscow                     Russia        15,000,000.00            14,925.00\n",
        "Buenos Aires            Argentina        13,170,000.00            10,888.00\n",
        "London             United Kingdom        12,875,000.00            11,391.00"
       ]
      }
     ],
     "prompt_number": 104
    },
    {
     "cell_type": "code",
     "collapsed": false,
     "input": [
      "df['Density'] = df['Population']/df['Area']\n",
      "df.sort('Density', ascending=False)['Density'].plot(kind='bar')"
     ],
     "language": "python",
     "metadata": {},
     "outputs": [
      {
       "metadata": {},
       "output_type": "pyout",
       "prompt_number": 105,
       "text": [
        "<matplotlib.axes.AxesSubplot at 0x109faac10>"
       ]
      },
      {
       "metadata": {},
       "output_type": "display_data",
       "png": "[encoded data removed]",
       "text": [
        "<matplotlib.figure.Figure at 0x10a2ceb90>"
       ]
      }
     ],
     "prompt_number": 105
    },
    {
     "cell_type": "code",
     "collapsed": false,
     "input": [
      "df.groupby('Country').head()"
     ],
     "language": "python",
     "metadata": {},
     "outputs": [
      {
       "html": [
        "<div style=\"max-height:1000px;max-width:1500px;overflow:auto;\">\n",
        "<table border=\"1\" class=\"dataframe\">\n",
        "  <thead>\n",
        "    <tr style=\"text-align: right;\">\n",
        "      <th></th>\n",
        "      <th></th>\n",
        "      <th>Country</th>\n",
        "      <th>Population</th>\n",
        "      <th>Area</th>\n",
        "      <th>Density</th>\n",
        "    </tr>\n",
        "    <tr>\n",
        "      <th>Country</th>\n",
        "      <th>Metropolitan area</th>\n",
        "      <th></th>\n",
        "      <th></th>\n",
        "      <th></th>\n",
        "      <th></th>\n",
        "    </tr>\n",
        "  </thead>\n",
        "  <tbody>\n",
        "    <tr>\n",
        "      <th>Argentina</th>\n",
        "      <th>Buenos Aires</th>\n",
        "      <td>       Argentina</td>\n",
        "      <td>       13,170,000.00</td>\n",
        "      <td>           10,888.00</td>\n",
        "      <td>            1,209.59</td>\n",
        "    </tr>\n",
        "    <tr>\n",
        "      <th>Brazil</th>\n",
        "      <th>S\u00e3o Paulo</th>\n",
        "      <td>          Brazil</td>\n",
        "      <td>       18,850,000.00</td>\n",
        "      <td>            8,479.00</td>\n",
        "      <td>            2,223.14</td>\n",
        "    </tr>\n",
        "    <tr>\n",
        "      <th rowspan=\"2\" valign=\"top\">China</th>\n",
        "      <th>Shanghai</th>\n",
        "      <td>           China</td>\n",
        "      <td>       16,650,000.00</td>\n",
        "      <td>            5,177.00</td>\n",
        "      <td>            3,216.15</td>\n",
        "    </tr>\n",
        "    <tr>\n",
        "      <th>Beijing</th>\n",
        "      <td>           China</td>\n",
        "      <td>       12,500,000.00</td>\n",
        "      <td>            6,562.00</td>\n",
        "      <td>            1,904.91</td>\n",
        "    </tr>\n",
        "    <tr>\n",
        "      <th>Egypt</th>\n",
        "      <th>Cairo</th>\n",
        "      <td>           Egypt</td>\n",
        "      <td>       14,450,000.00</td>\n",
        "      <td>            1,600.00</td>\n",
        "      <td>            9,031.25</td>\n",
        "    </tr>\n",
        "    <tr>\n",
        "      <th>Hong Kong/China</th>\n",
        "      <th>Hong Kong</th>\n",
        "      <td> Hong Kong/China</td>\n",
        "      <td>       15,800,000.00</td>\n",
        "      <td>            3,051.00</td>\n",
        "      <td>            5,178.63</td>\n",
        "    </tr>\n",
        "    <tr>\n",
        "      <th rowspan=\"3\" valign=\"top\">India</th>\n",
        "      <th>Mumbai-Bombay</th>\n",
        "      <td>           India</td>\n",
        "      <td>       19,200,000.00</td>\n",
        "      <td>            2,350.00</td>\n",
        "      <td>            8,170.21</td>\n",
        "    </tr>\n",
        "    <tr>\n",
        "      <th>New Delhi</th>\n",
        "      <td>           India</td>\n",
        "      <td>       18,600,000.00</td>\n",
        "      <td>            3,182.00</td>\n",
        "      <td>            5,845.38</td>\n",
        "    </tr>\n",
        "    <tr>\n",
        "      <th>Kolkata</th>\n",
        "      <td>           India</td>\n",
        "      <td>       15,100,000.00</td>\n",
        "      <td>            1,785.00</td>\n",
        "      <td>            8,459.38</td>\n",
        "    </tr>\n",
        "    <tr>\n",
        "      <th>Indonesia</th>\n",
        "      <th>Jakarta</th>\n",
        "      <td>       Indonesia</td>\n",
        "      <td>       18,900,000.00</td>\n",
        "      <td>            5,100.00</td>\n",
        "      <td>            3,705.88</td>\n",
        "    </tr>\n",
        "    <tr>\n",
        "      <th rowspan=\"2\" valign=\"top\">Japan</th>\n",
        "      <th>Tokyo</th>\n",
        "      <td>           Japan</td>\n",
        "      <td>       32,450,000.00</td>\n",
        "      <td>            8,014.00</td>\n",
        "      <td>            4,049.16</td>\n",
        "    </tr>\n",
        "    <tr>\n",
        "      <th>Osaka-Kobe-Kyoto</th>\n",
        "      <td>           Japan</td>\n",
        "      <td>       17,375,000.00</td>\n",
        "      <td>            6,930.00</td>\n",
        "      <td>            2,507.22</td>\n",
        "    </tr>\n",
        "    <tr>\n",
        "      <th>Mexico</th>\n",
        "      <th>Mexico City</th>\n",
        "      <td>          Mexico</td>\n",
        "      <td>       20,450,000.00</td>\n",
        "      <td>            7,346.00</td>\n",
        "      <td>            2,783.83</td>\n",
        "    </tr>\n",
        "    <tr>\n",
        "      <th>Pakistan</th>\n",
        "      <th>Karachi</th>\n",
        "      <td>        Pakistan</td>\n",
        "      <td>       11,800,000.00</td>\n",
        "      <td>            1,100.00</td>\n",
        "      <td>           10,727.27</td>\n",
        "    </tr>\n",
        "    <tr>\n",
        "      <th>Philippines</th>\n",
        "      <th>Manila</th>\n",
        "      <td>     Philippines</td>\n",
        "      <td>       16,300,000.00</td>\n",
        "      <td>            2,521.00</td>\n",
        "      <td>            6,465.69</td>\n",
        "    </tr>\n",
        "    <tr>\n",
        "      <th>Russia</th>\n",
        "      <th>Moscow</th>\n",
        "      <td>          Russia</td>\n",
        "      <td>       15,000,000.00</td>\n",
        "      <td>           14,925.00</td>\n",
        "      <td>            1,005.03</td>\n",
        "    </tr>\n",
        "    <tr>\n",
        "      <th>South Korea</th>\n",
        "      <th>Seoul</th>\n",
        "      <td>     South Korea</td>\n",
        "      <td>       20,550,000.00</td>\n",
        "      <td>            5,076.00</td>\n",
        "      <td>            4,048.46</td>\n",
        "    </tr>\n",
        "    <tr>\n",
        "      <th>United Kingdom</th>\n",
        "      <th>London</th>\n",
        "      <td>  United Kingdom</td>\n",
        "      <td>       12,875,000.00</td>\n",
        "      <td>           11,391.00</td>\n",
        "      <td>            1,130.28</td>\n",
        "    </tr>\n",
        "    <tr>\n",
        "      <th rowspan=\"2\" valign=\"top\">United States</th>\n",
        "      <th>New York City</th>\n",
        "      <td>   United States</td>\n",
        "      <td>       19,750,000.00</td>\n",
        "      <td>           17,884.00</td>\n",
        "      <td>            1,104.34</td>\n",
        "    </tr>\n",
        "    <tr>\n",
        "      <th>Los Angeles</th>\n",
        "      <td>   United States</td>\n",
        "      <td>       15,250,000.00</td>\n",
        "      <td>           10,780.00</td>\n",
        "      <td>            1,414.66</td>\n",
        "    </tr>\n",
        "  </tbody>\n",
        "</table>\n",
        "</div>"
       ],
       "metadata": {},
       "output_type": "pyout",
       "prompt_number": 106,
       "text": [
        "                                           Country           Population  \\\n",
        "Country         Metropolitan area                                         \n",
        "Argentina       Buenos Aires             Argentina        13,170,000.00   \n",
        "Brazil          S\u00e3o Paulo                   Brazil        18,850,000.00   \n",
        "China           Shanghai                     China        16,650,000.00   \n",
        "                Beijing                      China        12,500,000.00   \n",
        "Egypt           Cairo                        Egypt        14,450,000.00   \n",
        "Hong Kong/China Hong Kong          Hong Kong/China        15,800,000.00   \n",
        "India           Mumbai-Bombay                India        19,200,000.00   \n",
        "                New Delhi                    India        18,600,000.00   \n",
        "                Kolkata                      India        15,100,000.00   \n",
        "Indonesia       Jakarta                  Indonesia        18,900,000.00   \n",
        "Japan           Tokyo                        Japan        32,450,000.00   \n",
        "                Osaka-Kobe-Kyoto             Japan        17,375,000.00   \n",
        "Mexico          Mexico City                 Mexico        20,450,000.00   \n",
        "Pakistan        Karachi                   Pakistan        11,800,000.00   \n",
        "Philippines     Manila                 Philippines        16,300,000.00   \n",
        "Russia          Moscow                      Russia        15,000,000.00   \n",
        "South Korea     Seoul                  South Korea        20,550,000.00   \n",
        "United Kingdom  London              United Kingdom        12,875,000.00   \n",
        "United States   New York City        United States        19,750,000.00   \n",
        "                Los Angeles          United States        15,250,000.00   \n",
        "\n",
        "                                                  Area              Density  \n",
        "Country         Metropolitan area                                            \n",
        "Argentina       Buenos Aires                 10,888.00             1,209.59  \n",
        "Brazil          S\u00e3o Paulo                     8,479.00             2,223.14  \n",
        "China           Shanghai                      5,177.00             3,216.15  \n",
        "                Beijing                       6,562.00             1,904.91  \n",
        "Egypt           Cairo                         1,600.00             9,031.25  \n",
        "Hong Kong/China Hong Kong                     3,051.00             5,178.63  \n",
        "India           Mumbai-Bombay                 2,350.00             8,170.21  \n",
        "                New Delhi                     3,182.00             5,845.38  \n",
        "                Kolkata                       1,785.00             8,459.38  \n",
        "Indonesia       Jakarta                       5,100.00             3,705.88  \n",
        "Japan           Tokyo                         8,014.00             4,049.16  \n",
        "                Osaka-Kobe-Kyoto              6,930.00             2,507.22  \n",
        "Mexico          Mexico City                   7,346.00             2,783.83  \n",
        "Pakistan        Karachi                       1,100.00            10,727.27  \n",
        "Philippines     Manila                        2,521.00             6,465.69  \n",
        "Russia          Moscow                       14,925.00             1,005.03  \n",
        "South Korea     Seoul                         5,076.00             4,048.46  \n",
        "United Kingdom  London                       11,391.00             1,130.28  \n",
        "United States   New York City                17,884.00             1,104.34  \n",
        "                Los Angeles                  10,780.00             1,414.66  "
       ]
      }
     ],
     "prompt_number": 106
    },
    {
     "cell_type": "code",
     "collapsed": false,
     "input": [
      "type(df.groupby('Country'))"
     ],
     "language": "python",
     "metadata": {},
     "outputs": [
      {
       "metadata": {},
       "output_type": "pyout",
       "prompt_number": 107,
       "text": [
        "pandas.core.groupby.DataFrameGroupBy"
       ]
      }
     ],
     "prompt_number": 107
    },
    {
     "cell_type": "code",
     "collapsed": false,
     "input": [
      "print df.groupby('Country').sum().sort('Density', ascending=False).head()"
     ],
     "language": "python",
     "metadata": {},
     "outputs": [
      {
       "output_type": "stream",
       "stream": "stdout",
       "text": [
        "                      Population                 Area              Density\n",
        "Country                                                                   \n",
        "India              52,900,000.00             7,317.00            22,474.98\n",
        "Pakistan           11,800,000.00             1,100.00            10,727.27\n",
        "Egypt              14,450,000.00             1,600.00             9,031.25\n",
        "Japan              49,825,000.00            14,944.00             6,556.38\n",
        "Philippines        16,300,000.00             2,521.00             6,465.69\n"
       ]
      }
     ],
     "prompt_number": 108
    },
    {
     "cell_type": "markdown",
     "metadata": {},
     "source": [
      "All the data in this notebook was taken from wikipedia."
     ]
    }
   ],
   "metadata": {}
  }
 ]
}