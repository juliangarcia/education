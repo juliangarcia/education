{
 "metadata": {
  "name": "quicksort_handout"
 },
 "nbformat": 3,
 "nbformat_minor": 0,
 "worksheets": [
  {
   "cells": [
    {
     "cell_type": "markdown",
     "metadata": {},
     "source": [
      "This lecture handout was prepared by [Juli\u00e1n Garc\u00eda](http://garciajulian.com) using [IPython notebook](http://ipython.org/notebook.html). You can also download the [source](https://github.com/juliangarcia/education/blob/master/quicksort/quicksort_handout.ipynb) if you want to follow it interactively. "
     ]
    },
    {
     "cell_type": "markdown",
     "metadata": {},
     "source": [
      "#Quicksort "
     ]
    },
    {
     "cell_type": "markdown",
     "metadata": {},
     "source": [
      "##Sorting problem"
     ]
    },
    {
     "cell_type": "markdown",
     "metadata": {},
     "source": [
      "**Input:** A sequence of $n$ elements $\\langle a_1, a_2, ..., a_n \\rangle$"
     ]
    },
    {
     "cell_type": "markdown",
     "metadata": {},
     "source": [
      "**Output:** A permutation of the original sequence, $\\langle a'_1, a'_2, ..., a'_n \\rangle$, such that $a'_1 \\leq a'_2\\leq ...\\leq a'_n $"
     ]
    },
    {
     "cell_type": "markdown",
     "metadata": {},
     "source": [
      "* Sorting tipically brings to mind *arrays* of natural numbers, but we can sort any list of objects provided we have a way to compare objects.\n",
      "\n",
      "* We want to sort **efficiently**, for instance by minimizing the number of comparisons performed or the memory that the sorting procedure uses. \n",
      "\n",
      "* Sorting algorithms can be studied quite formally for efficiency and correctnes. \n",
      "\n",
      "* Sometimes knowing a little bit about the data we expect can be very useful in making a good algorithm choice."
     ]
    },
    {
     "cell_type": "markdown",
     "metadata": {},
     "source": [
      "##Some quicksort facts"
     ]
    },
    {
     "cell_type": "markdown",
     "metadata": {},
     "source": [
      "* A prime example of **divide and conquer**: reduce the size of the problem and apply recursively on the smaller parts.\n",
      "\n",
      "* It is recursive, the algorithm *calls itself*. We should provide an exit door, to ensure it stops. This is typically a subproblem that is trivial to solve (e.g. sort a list of one element, or an empty list).\n",
      "\n",
      "* Sorts **in place**. No extra memory, auxiliary arrays or other data structures. Sorting in place is key to a proper quicksort implementation.\n",
      "\n",
      "* Top 10 algorithms of the 20th century (according to [SIAM](http://siam.org))\n",
      "\n"
     ]
    },
    {
     "cell_type": "markdown",
     "metadata": {},
     "source": [
      "##General strategy of quicksort"
     ]
    },
    {
     "cell_type": "markdown",
     "metadata": {},
     "source": [
      "* The input is an array $A[p .. r]$, where $p$ denotes the index of the first element of $A$ and $r$ denotes the index of the last element in $A$.  \n",
      "\n",
      "* We *partition* $A$, in two smaller sub-arrays. $A[p, q]$ and $A[q+1, r]$. This implies moving elements around in $A$ (**in place**) and coming up with an index $q$. \n",
      "\n",
      "* The partition given by $q$ is such that the elements in the subarray $A[p, q]$ are smaller or equal than the elements in the subarray $A[q+1, r]$. \n",
      "\n",
      "* We sort the subarray $A[p, q]$ using quicksort, and then we sort the subarray $A[q+1, r]$, using quicksort.\n",
      "\n",
      "* Since quicksort works *in place*, we do not have to combine or stich up the resulting ordered subarrays. We are done.\n",
      "\n"
     ]
    },
    {
     "cell_type": "markdown",
     "metadata": {},
     "source": [
      "##Hoare partition"
     ]
    },
    {
     "cell_type": "markdown",
     "metadata": {},
     "source": [
      "Most of the work is actually done by the partition method. There are several ways to perform the partition. Below we implement the original algorithm as proposed by [A.C.R Hoare](http://en.wikipedia.org/wiki/Tony_Hoare). This is known as the Hoare partition, and is the partition method often found in most textbooks."
     ]
    },
    {
     "cell_type": "code",
     "collapsed": false,
     "input": [
      "def partition(an_array, p, r):\n",
      "    \"\"\"\n",
      "    An array, p is the index of the first element of the sub_array we want to partition,\n",
      "    and r is the index of the last element we want to partition.\n",
      "    \"\"\"\n",
      "    #we choose a pivot x, around which we partition (first element of the subarray)\n",
      "    x = an_array[p]\n",
      "    #i is the index going forward\n",
      "    i = p-1\n",
      "    #j is the index going backwards\n",
      "    j = r+1\n",
      "    while True:\n",
      "        #we first go backwards decreasing j\n",
      "        while True:\n",
      "            j-=1\n",
      "            #until we find an element <= than the pivot\n",
      "            if (an_array[j] <= x):\n",
      "                break\n",
      "        #then we go forward increasing i\n",
      "        while True:\n",
      "            i+=1\n",
      "            #until we find an element >= than the pivot\n",
      "            if (an_array[i] >= x):\n",
      "                break\n",
      "        if i < j:\n",
      "            #we exchange the elements at positions i and j\n",
      "            an_array[i], an_array[j] = an_array[j], an_array[i]\n",
      "        #we are done when j and i have crossed.\n",
      "        else:\n",
      "            return j"
     ],
     "language": "python",
     "metadata": {},
     "outputs": [],
     "prompt_number": 1
    },
    {
     "cell_type": "markdown",
     "metadata": {},
     "source": [
      "Having implemented the partition, quicksort is straightforward:"
     ]
    },
    {
     "cell_type": "code",
     "collapsed": false,
     "input": [
      "def quicksort(an_array, p, r):\n",
      "    #if the problem is not trivial\n",
      "    if p < r:\n",
      "        #divide\n",
      "        q = partition(an_array, p, r)\n",
      "        #and conquer\n",
      "        quicksort(an_array, p, q)\n",
      "        quicksort(an_array, q+1, r)"
     ],
     "language": "python",
     "metadata": {},
     "outputs": [],
     "prompt_number": 2
    },
    {
     "cell_type": "markdown",
     "metadata": {},
     "source": [
      "Let us sort the array we used as an example in class:"
     ]
    },
    {
     "cell_type": "code",
     "collapsed": false,
     "input": [
      "an_array = [4,1,5,3,7,2,6]\n",
      "quicksort(an_array, 0, len(an_array)-1)\n",
      "print an_array"
     ],
     "language": "python",
     "metadata": {},
     "outputs": [
      {
       "output_type": "stream",
       "stream": "stdout",
       "text": [
        "[1, 2, 3, 4, 5, 6, 7]\n"
       ]
      }
     ],
     "prompt_number": 3
    },
    {
     "cell_type": "markdown",
     "metadata": {},
     "source": [
      "We can also check the first partition of this array, the one we used as an example in class:"
     ]
    },
    {
     "cell_type": "code",
     "collapsed": false,
     "input": [
      "#before partition\n",
      "an_array = [4,1,5,3,7,2,6]\n",
      "print \"Array before the partition A = {} \".format(an_array)\n",
      "q = partition(an_array, 0, len(an_array)-1)\n",
      "#after partition\n",
      "print \"Array after partition A = {}\".format(an_array)\n",
      "print \"q = {}\".format(q)\n",
      "print \"Left-hand sub-array A[p, q] = {}\".format(an_array[0:q+1])\n",
      "print \"Right-hand sub-array A[q+1, r] = {}\".format(an_array[q+1:len(an_array)])"
     ],
     "language": "python",
     "metadata": {},
     "outputs": [
      {
       "output_type": "stream",
       "stream": "stdout",
       "text": [
        "Array before the partition A = [4, 1, 5, 3, 7, 2, 6] \n",
        "Array after partition A = [2, 1, 3, 5, 7, 4, 6]\n",
        "q = 2\n",
        "Left-hand sub-array A[p, q] = [2, 1, 3]\n",
        "Right-hand sub-array A[q+1, r] = [5, 7, 4, 6]\n"
       ]
      }
     ],
     "prompt_number": 4
    },
    {
     "cell_type": "markdown",
     "metadata": {},
     "source": [
      "Note that we are not returning any array in any of the functions involved, nor creating any additional sublists. This is because everything happens **in place** by moving elements around in A and determining the index q."
     ]
    },
    {
     "cell_type": "markdown",
     "metadata": {},
     "source": [
      "To make sure that this actually works let us try it out on a couple of random arrays:"
     ]
    },
    {
     "cell_type": "code",
     "collapsed": false,
     "input": [
      "import random\n",
      "random_array = [random.randint(0,100) for r in xrange(10)]\n",
      "print \"Unsorted = {}\".format(random_array)\n",
      "quicksort(random_array, 0, 9)\n",
      "print \"Sorted = {}\".format(random_array)"
     ],
     "language": "python",
     "metadata": {},
     "outputs": [
      {
       "output_type": "stream",
       "stream": "stdout",
       "text": [
        "Unsorted = [3, 66, 95, 84, 75, 13, 7, 31, 35, 7]\n",
        "Sorted = [3, 7, 7, 13, 31, 35, 66, 75, 84, 95]\n"
       ]
      }
     ],
     "prompt_number": 5
    },
    {
     "cell_type": "code",
     "collapsed": false,
     "input": [
      "random_array = [random.randint(0,100) for r in xrange(10)]\n",
      "print \"Unsorted = {}\".format(random_array)\n",
      "quicksort(random_array, 0, 9)\n",
      "print \"Sorted = {}\".format(random_array)"
     ],
     "language": "python",
     "metadata": {},
     "outputs": [
      {
       "output_type": "stream",
       "stream": "stdout",
       "text": [
        "Unsorted = [60, 95, 88, 63, 70, 89, 49, 2, 7, 5]\n",
        "Sorted = [2, 5, 7, 49, 60, 63, 70, 88, 89, 95]\n"
       ]
      }
     ],
     "prompt_number": 6
    },
    {
     "cell_type": "markdown",
     "metadata": {},
     "source": [
      "This partition that we saw in class is known as the Hoare partition. It is named after C.A.R Hoare, the inventor of quicksort. [It dates back to 1962](http://comjnl.oxfordjournals.org/content/5/1/10.abstract). "
     ]
    },
    {
     "cell_type": "markdown",
     "metadata": {},
     "source": [
      "###Intuition about performance."
     ]
    },
    {
     "cell_type": "markdown",
     "metadata": {},
     "source": [
      "* The partition is actually a very efficient way to compare the elements in the array. We choose one pivot and compare everything to it, instead of comparing all elements against each other.\n",
      "* Note that in the **best case**, we will partition in halves all along. This occurs when the pivots happens to fall on the median of the array. Moreover, we are able to do this *in place*.\n",
      "* The **worst case** occurs for a sorted array, in which the partitions will be of size $1$ and $n-1$\n",
      "* If the input is random, we would expect the worst case to be very unlikely. If all the permutations are equally likely, it is reasonable to expect that the pivot will often fall somewhere in the middle of the array. \n",
      "* For quicksort, the best case is very good and the worst case is not so good, but on average we expect things to be closer to the best case."
     ]
    },
    {
     "cell_type": "markdown",
     "metadata": {},
     "source": [
      "##Other partitions\n",
      "\n",
      "### Lomuto partition "
     ]
    },
    {
     "cell_type": "markdown",
     "metadata": {},
     "source": [
      "Next to the Hoare partition, another popular way to divide the sorting problem is given by the **Lomuto** partition. We will not cover this in class, but it is important to understand that there are several ways to perform an *in-place* partition for quicksort."
     ]
    },
    {
     "cell_type": "markdown",
     "metadata": {},
     "source": [
      "The main difference is that the partition happens around the last element of the array ($x = A[r]$). \n",
      "\n",
      "Partitioning an array $A[p..r]$ will return the pivot $q$. The smaller sub-arrays are $A[p..q-1]$ and $A[q+1..R]$.\n",
      "\n"
     ]
    },
    {
     "cell_type": "code",
     "collapsed": false,
     "input": [
      "def lomuto_partition(an_array, p, r):\n",
      "    #pick the pivot\n",
      "    x = an_array[r]\n",
      "    #from p to i elements <= x\n",
      "    i = p-1\n",
      "    for j in xrange(p, r):\n",
      "        if an_array[j] <= x:\n",
      "            #from i to j elements  > x\n",
      "            i+=1\n",
      "            #exchange elements between regions\n",
      "            an_array[i],an_array[j] = an_array[j],an_array[i]\n",
      "    #put the pivot in place, from position r to position i+1\n",
      "    an_array[i+1],an_array[r] = an_array[r],an_array[i+1]\n",
      "    return i+1"
     ],
     "language": "python",
     "metadata": {},
     "outputs": [],
     "prompt_number": 7
    },
    {
     "cell_type": "markdown",
     "metadata": {},
     "source": [
      "Note that this implementation is more compact. We redefine the quicksort to work with this partition in the following manner..."
     ]
    },
    {
     "cell_type": "code",
     "collapsed": false,
     "input": [
      "def quicksort_lomuto(an_array, p, r):\n",
      "    if p < r:\n",
      "        q = lomuto_partition(an_array, p, r)\n",
      "        quicksort_lomuto(an_array, p, q-1)\n",
      "        quicksort_lomuto(an_array, q+1, r)"
     ],
     "language": "python",
     "metadata": {},
     "outputs": [],
     "prompt_number": 8
    },
    {
     "cell_type": "markdown",
     "metadata": {},
     "source": [
      "Let us sort the example we saw in class, now with the Lomuto partition:"
     ]
    },
    {
     "cell_type": "code",
     "collapsed": false,
     "input": [
      "an_array = [4,1,5,3,7,2,6]\n",
      "quicksort_lomuto(an_array, 0, len(an_array)-1)\n",
      "print an_array"
     ],
     "language": "python",
     "metadata": {},
     "outputs": [
      {
       "output_type": "stream",
       "stream": "stdout",
       "text": [
        "[1, 2, 3, 4, 5, 6, 7]\n"
       ]
      }
     ],
     "prompt_number": 9
    },
    {
     "cell_type": "markdown",
     "metadata": {},
     "source": [
      "We can also check the first partition, like we did before:"
     ]
    },
    {
     "cell_type": "code",
     "collapsed": false,
     "input": [
      "#before\n",
      "an_array = [4,1,5,3,7,2,6]\n",
      "print \"Array before the partition A = {} \".format(an_array)\n",
      "q = lomuto_partition(an_array, 0, len(an_array)-1)\n",
      "#after\n",
      "print \"Array after partition A = {}\".format(an_array)\n",
      "print \"q = {}\".format(q)\n",
      "print \"Left-hand sub-array A[p, q-1] = {}\".format(an_array[0:q])\n",
      "print \"A[q] = [{}]\".format(an_array[q])\n",
      "print \"Right-hand sub-array A[q+1, r] = {}\".format(an_array[q+1:len(an_array)])"
     ],
     "language": "python",
     "metadata": {},
     "outputs": [
      {
       "output_type": "stream",
       "stream": "stdout",
       "text": [
        "Array before the partition A = [4, 1, 5, 3, 7, 2, 6] \n",
        "Array after partition A = [4, 1, 5, 3, 2, 6, 7]\n",
        "q = 5\n",
        "Left-hand sub-array A[p, q-1] = [4, 1, 5, 3, 2]\n",
        "A[q] = [6]\n",
        "Right-hand sub-array A[q+1, r] = [7]\n"
       ]
      }
     ],
     "prompt_number": 10
    },
    {
     "cell_type": "markdown",
     "metadata": {},
     "source": [
      "Notice that the partitions performed by the Hoare and the Lomuto partition (on our example array) differ substantially, but both comply with the requirement of providing two smaller subproblems with the elements of one subproblem being all smaller than the elements of the other subproblem. "
     ]
    },
    {
     "cell_type": "markdown",
     "metadata": {},
     "source": [
      "We can also try with a random array:"
     ]
    },
    {
     "cell_type": "code",
     "collapsed": false,
     "input": [
      "import random\n",
      "random_array = [random.randint(0,100) for r in xrange(10)]\n",
      "print \"Unsorted = {}\".format(random_array)\n",
      "quicksort(random_array, 0, 9)\n",
      "print \"Sorted = {}\".format(random_array)"
     ],
     "language": "python",
     "metadata": {},
     "outputs": [
      {
       "output_type": "stream",
       "stream": "stdout",
       "text": [
        "Unsorted = [40, 6, 84, 88, 95, 76, 38, 60, 30, 2]\n",
        "Sorted = [2, 6, 30, 38, 40, 60, 76, 84, 88, 95]\n"
       ]
      }
     ],
     "prompt_number": 11
    },
    {
     "cell_type": "markdown",
     "metadata": {},
     "source": [
      "I encourage you to try to implement your own partition methods. Partitions can be more intuitive, for instance, if we work with other data structures (e.g., linked lists instead of plain arrays). This may come at a cost in efficiency. It is difficult to beat the Hoare or the Lomuto partition, but it is hard to resist the invitation to tinker these methods."
     ]
    },
    {
     "cell_type": "markdown",
     "metadata": {},
     "source": [
      "#Some literature"
     ]
    },
    {
     "cell_type": "markdown",
     "metadata": {},
     "source": [
      "* Leiserson, Charles E., Ronald L. Rivest, and Clifford Stein. **Introduction to algorithms**. Edited by Thomas H. Cormen. \u2028",
      "The MIT press, 2001.\n",
      "\n",
      "* Sedgewick, Robert. and Wayne, Kevin. **Algorithms**. \u2028",
      "Pearson Education, 2011.\n",
      "\n",
      "* [Hoare, Charles AR. *Quicksort.* The Computer Journal 5, no. 1 (1962): 10-16](http://comjnl.oxfordjournals.org/content/5/1/10.abstract)."
     ]
    }
   ],
   "metadata": {}
  }
 ]
}